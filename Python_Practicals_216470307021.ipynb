{
  "cells": [
    {
      "cell_type": "markdown",
      "metadata": {
        "id": "ZiJLg52krEGy"
      },
      "source": [
        "# **Practical 1**"
      ]
    },
    {
      "cell_type": "markdown",
      "metadata": {
        "id": "16msMlF6ros4"
      },
      "source": [
        "**Aim -- Install and configure the Python Environment. Also run the basic Python commands to verify the Python Environment.**"
      ]
    },
    {
      "cell_type": "code",
      "execution_count": null,
      "metadata": {
        "colab": {
          "base_uri": "https://localhost:8080/"
        },
        "id": "4rodVgd48sTo",
        "outputId": "5aa4c651-0ea8-4d69-eb56-20fd285469d5"
      },
      "outputs": [
        {
          "name": "stdout",
          "output_type": "stream",
          "text": [
            "Enter the value of Number 1 = 10\n",
            "Enter the value of Number 2 = 20\n",
            "Addition =  30\n",
            "Subtraction =  -10\n",
            "Multiplication =  200\n",
            "Division =  0.5\n",
            "Modulo =  10\n"
          ]
        }
      ],
      "source": [
        "# Introduction to Python\n",
        "\n",
        "a=int(input(\"Enter the value of Number 1 = \"))\n",
        "b=int(input(\"Enter the value of Number 2 = \"))\n",
        "\n",
        "# Basic Arithmatic Operations\n",
        "\n",
        "print(\"Addition = \",a+b)\n",
        "print(\"Subtraction = \",a-b)\n",
        "print(\"Multiplication = \",a*b)\n",
        "print(\"Division = \",a/b)\n",
        "print(\"Modulo = \",a%b)"
      ]
    },
    {
      "cell_type": "markdown",
      "metadata": {
        "id": "tONXxH0algPG"
      },
      "source": [
        "\n",
        "# **Practical 2**"
      ]
    },
    {
      "cell_type": "markdown",
      "metadata": {
        "id": "RR1X-oUVlwMQ"
      },
      "source": [
        "**Aim -- Write a program to read your Name, Contact Number, Email ID and Birthday and print those details on the screen.**"
      ]
    },
    {
      "cell_type": "code",
      "execution_count": null,
      "metadata": {
        "id": "2KdXdBSZlckY"
      },
      "outputs": [],
      "source": []
    },
    {
      "cell_type": "code",
      "execution_count": null,
      "metadata": {
        "colab": {
          "base_uri": "https://localhost:8080/"
        },
        "id": "4f2CRExhnvm-",
        "outputId": "7816d601-a4c1-4e24-fa96-6598c0556719"
      },
      "outputs": [
        {
          "name": "stdout",
          "output_type": "stream",
          "text": [
            "Enter NAME: Vraj Patel\n",
            "Enter CONTACT NUMBER: 8160084728\n",
            "Enter Email ID: vraj20102005@gmail.com\n",
            "Enter BIRTHDATE: 20/10/2005\n",
            "Vraj Patel\n",
            "8160084728\n",
            "vraj20102005@gmail.com\n",
            "20/10/2005\n"
          ]
        }
      ],
      "source": [
        "# Taking Input from User\n",
        "name=input(\"Enter NAME: \")\n",
        "number=input(\"Enter CONTACT NUMBER: \")\n",
        "email=input(\"Enter Email ID: \")\n",
        "birthdate=input(\"Enter BIRTHDATE: \")\n",
        "\n",
        "# Printing the Input got from the User\n",
        "print(name)\n",
        "print(number)\n",
        "print(email)\n",
        "print(birthdate)"
      ]
    },
    {
      "cell_type": "markdown",
      "metadata": {
        "id": "WiuZAf_o5TFg"
      },
      "source": [
        "## **Practical 3 (A)**"
      ]
    },
    {
      "cell_type": "markdown",
      "metadata": {
        "id": "FzTss2b16UOi"
      },
      "source": [
        "**Aim -- Write a program to convert temperature from Celsius to Fahrenheit. Equation to convert Celsius to Fahrenheit: 𝐹 = (9/5) ∗ 𝐶 + 32.**"
      ]
    },
    {
      "cell_type": "code",
      "execution_count": null,
      "metadata": {
        "colab": {
          "base_uri": "https://localhost:8080/"
        },
        "id": "xv07sLbX5ZgY",
        "outputId": "424c34c1-6bce-4e36-ba26-602bdd73816f"
      },
      "outputs": [
        {
          "name": "stdout",
          "output_type": "stream",
          "text": [
            "Enter Temperature in CELSIUS: -40\n",
            "FAHRENHEIT =  -40.0\n"
          ]
        }
      ],
      "source": [
        "# Temperature in celsius degree\n",
        "celsius = float(input(\"Enter Temperature in CELSIUS: \"))\n",
        "\n",
        " # Formula for converting CELSIUS to FAHRENHEIT\n",
        "fahrenheit = (celsius * 1.8) + 32\n",
        "\n",
        "# printing the result\n",
        "print(\"FAHRENHEIT = \", fahrenheit)"
      ]
    },
    {
      "cell_type": "markdown",
      "metadata": {
        "id": "ZD1-TMXK9YgE"
      },
      "source": [
        "## **Practical 3 (B)**"
      ]
    },
    {
      "cell_type": "markdown",
      "metadata": {
        "id": "1HIopDuu9tyN"
      },
      "source": [
        "**Aim -- Write a program to compute the slope of a line between two points (x1, y1) and (x2, y2). 𝑆𝑙𝑜𝑝𝑒 = ( y2 - y1 )/(x2 - x1)**"
      ]
    },
    {
      "cell_type": "code",
      "execution_count": null,
      "metadata": {
        "colab": {
          "base_uri": "https://localhost:8080/"
        },
        "id": "kGNGW7Yp62p5",
        "outputId": "61a445ba-f5ea-4a1d-98cc-6d4e5a9c1950"
      },
      "outputs": [
        {
          "name": "stdout",
          "output_type": "stream",
          "text": [
            "Enter X coordinate of Line 1 = 23\n",
            "Enter Y coordinate of Line 1 = 65\n",
            "Enter X coordinate of Line 2 = 25\n",
            "Enter Y coordinate of Line 2 = 85\n",
            "Slope of two Points =  10.0\n",
            "Mid Points =  35.5    107.5\n"
          ]
        }
      ],
      "source": [
        "# Taking Input from User\n",
        "x1 = int(input(\"Enter X coordinate of Line 1 = \"))\n",
        "y1 = int(input(\"Enter Y coordinate of Line 1 = \"))\n",
        "x2 = int(input(\"Enter X coordinate of Line 2 = \"))\n",
        "y2 = int(input(\"Enter Y coordinate of Line 2 = \"))\n",
        "\n",
        "# Calculating Slope and Mid Points\n",
        "slope = ( y2 - y1 )/(x2 - x1)\n",
        "mid_point_x = x1+x2/2\n",
        "mid_point_y = y1+y2/2\n",
        "\n",
        "# Printing the Outputs\n",
        "print(\"Slope of two Points = \", slope)\n",
        "print(\"Mid Points = \", mid_point_x, \"  \", mid_point_y)"
      ]
    },
    {
      "cell_type": "markdown",
      "metadata": {
        "id": "etDTLx3NAf5s"
      },
      "source": [
        "## **Practical 3 (C)**"
      ]
    },
    {
      "cell_type": "markdown",
      "metadata": {
        "id": "EvjYMkX4Dydm"
      },
      "source": [
        "**Aim -- Write a program to calculate simple and compound interest.\n",
        "𝑆𝑖𝑚𝑝𝑙𝑒 𝐼𝑛𝑡𝑒𝑟𝑒𝑠𝑡 = (P * R * T)/(100 )\n",
        "𝐶𝑜𝑚𝑝𝑜𝑢𝑛𝑑 𝐼𝑛𝑡𝑒𝑟𝑒𝑠𝑡 = principle * (pow((1 + rate / 100), time))**"
      ]
    },
    {
      "cell_type": "code",
      "execution_count": null,
      "metadata": {
        "colab": {
          "base_uri": "https://localhost:8080/"
        },
        "id": "r4Ok3prE-jvG",
        "outputId": "b65360a8-4c07-49a4-d5ad-a465a645fd39"
      },
      "outputs": [
        {
          "name": "stdout",
          "output_type": "stream",
          "text": [
            "Enter the Principle Amount = 10000\n",
            "Enter the Rate of Interest Charged (Per Year) = 10.25\n",
            "Enter the Time Period of Loan (In Year) = 5\n",
            "Simple Interest =  5125.0\n",
            "Compound interest =  6288.946267774416\n"
          ]
        }
      ],
      "source": [
        "# Taking Input from User\n",
        "principle = int(input(\"Enter the Principle Amount = \"))\n",
        "rate = float(input(\"Enter the Rate of Interest Charged (Per Year) = \"))\n",
        "time = int(input(\"Enter the Time Period of Loan (In Year) = \"))\n",
        "\n",
        "# Calculating Compound Interest\n",
        "Amount = principle * (pow((1 + rate / 100), time))\n",
        "CI = Amount - principle\n",
        "# (pow(p * 1+r/100),time)\n",
        "# Printing the Output\n",
        "print(\"Simple Interest = \", principle * rate * time/100)\n",
        "print(\"Compound interest = \", CI)"
      ]
    },
    {
      "cell_type": "code",
      "source": [
        "pow()"
      ],
      "metadata": {
        "id": "Q6pT6bd5xMgT"
      },
      "execution_count": null,
      "outputs": []
    },
    {
      "cell_type": "markdown",
      "metadata": {
        "id": "V6Q6kqIBFCXn"
      },
      "source": [
        "## **Practical 3 (D)**"
      ]
    },
    {
      "cell_type": "markdown",
      "metadata": {
        "id": "04dvKKb5YZcB"
      },
      "source": [
        "**Aim -- Write a program to get change values in Quarter, Dime, Nickels and Pennies, and calculate the value of change in Dollars. Consider Quarter = 0.25, Dime=0.10, Nickels = 0.05 and Penny=0.01.**"
      ]
    },
    {
      "cell_type": "code",
      "execution_count": null,
      "metadata": {
        "colab": {
          "base_uri": "https://localhost:8080/"
        },
        "id": "Muv8o81nYaHl",
        "outputId": "67d4ad55-16ac-4ad6-82de-e82b06e32320"
      },
      "outputs": [
        {
          "name": "stdout",
          "output_type": "stream",
          "text": [
            "Enter Amount in Quarters = 25\n",
            "Enter Amount in Dimes = 56\n",
            "Enter Amount in Nickels = 99\n",
            "Enter Amount in Pennis = 65\n",
            "Amount in Dollars =  17.45\n"
          ]
        }
      ],
      "source": [
        "# Taking Input from User\n",
        "quarters=int(input(\"Enter Amount in Quarters = \"))\n",
        "dimes=int(input(\"Enter Amount in Dimes = \"))\n",
        "nickels=int(input(\"Enter Amount in Nickels = \"))\n",
        "pennies=int(input(\"Enter Amount in Pennis = \"))\n",
        "\n",
        "# Calculating Amount in Dollars\n",
        "totalCents = 25*quarters + 10*dimes + 5*nickels + pennies;\n",
        "dollars = totalCents/100.0;\n",
        "\n",
        "# Printing the Output\n",
        "print(\"Amount in Dollars = \",dollars)"
      ]
    },
    {
      "cell_type": "markdown",
      "metadata": {
        "id": "luWuC1IOxD60"
      },
      "source": [
        "## **Practical 3 (E)**"
      ]
    },
    {
      "cell_type": "markdown",
      "metadata": {
        "id": "8vuz2f3oxNgj"
      },
      "source": [
        "**Aim -- Write a program to find a maximum of given three numbers (Use Ternary Operator).**"
      ]
    },
    {
      "cell_type": "code",
      "execution_count": null,
      "metadata": {
        "colab": {
          "base_uri": "https://localhost:8080/"
        },
        "id": "YdmaJ6_7xLV7",
        "outputId": "1121d208-2463-4bda-aebf-550b489e1e6f"
      },
      "outputs": [
        {
          "name": "stdout",
          "output_type": "stream",
          "text": [
            "Enter Number 1: 58\n",
            "Enter Number 2: 57\n",
            "Enter Number 3: 58\n",
            "Maximum Number =  58\n"
          ]
        }
      ],
      "source": [
        "n1 = int(input(\"Enter Number 1: \"))\n",
        "n2 = int(input(\"Enter Number 2: \"))\n",
        "n3 = int(input(\"Enter Number 3: \"))\n",
        "mx = (n1 if (n1 > n2 and n1 > n3) else (n2 if (n2 > n1 and n2 > n3) else n3))\n",
        "print(\"Maximum Number = \",mx)"
      ]
    },
    {
      "cell_type": "markdown",
      "metadata": {
        "id": "hGcPD42Nx8G9"
      },
      "source": [
        "\n",
        "## **Practical 3 (F)**"
      ]
    },
    {
      "cell_type": "markdown",
      "metadata": {
        "id": "EPOFxfVrx7wj"
      },
      "source": [
        "**Aim -- Write a program to calculate area and volume of Sphere. 𝐴𝑟𝑒𝑎 𝑜𝑓 𝑆𝑝ℎ𝑒𝑟𝑒 =4πr^2 𝑉𝑜𝑙𝑢𝑚𝑒 𝑜𝑓 𝑆𝑝ℎ𝑒𝑟𝑒 =4/3 πr^3**"
      ]
    },
    {
      "cell_type": "code",
      "execution_count": null,
      "metadata": {
        "colab": {
          "base_uri": "https://localhost:8080/"
        },
        "id": "eyqBcEcdxebk",
        "outputId": "0cbadb32-6c4b-4b35-b71a-945e6ae35e1c"
      },
      "outputs": [
        {
          "name": "stdout",
          "output_type": "stream",
          "text": [
            "Enter the Radius of Sphere = 7\n",
            "Surface Area of the Sphere =  615.7521601035994\n",
            "Volume of the Sphere =  1436.7550402417319\n"
          ]
        }
      ],
      "source": [
        "#import math package to use math.pi for the value of PI\n",
        "import math\n",
        "#take radius of the   sphere from user\n",
        "r=float(input(\"Enter the Radius of Sphere = \"))\n",
        "#calculate the surface area of sphere\n",
        "s_area=4*math.pi*pow(r,2)\n",
        "#calculate the volume of sphere\n",
        "volume=(4/3)*math.pi*pow(r,3)\n",
        "#now printing the output\n",
        "print(\"Surface Area of the Sphere = \", s_area)\n",
        "print(\"Volume of the Sphere = \", volume)"
      ]
    },
    {
      "cell_type": "markdown",
      "metadata": {
        "id": "TtNJeVXa77O1"
      },
      "source": [
        "## **Practical 3 (G)**"
      ]
    },
    {
      "cell_type": "markdown",
      "metadata": {
        "id": "fog1lANR9wN9"
      },
      "source": [
        "**Aim -- Write a program that computes the real roots of a given quadratic equation (Use math library). DiscriminantΔ = b 2 − 4 ac  \n",
        "RealRoots= −b±√b 2−4ac 2a**"
      ]
    },
    {
      "cell_type": "code",
      "source": [
        "import math"
      ],
      "metadata": {
        "id": "kKt5eKtj4wxc"
      },
      "execution_count": null,
      "outputs": []
    },
    {
      "cell_type": "code",
      "execution_count": null,
      "metadata": {
        "colab": {
          "base_uri": "https://localhost:8080/"
        },
        "id": "fZXlVHSD_6KB",
        "outputId": "5fff0776-1205-4d5b-a695-2f7b74dab7f3"
      },
      "outputs": [
        {
          "name": "stdout",
          "output_type": "stream",
          "text": [
            "Enter the value of a: 22\n",
            "Enter the value of b: 4\n",
            "Enter the value of c: 1\n",
            "This equation has no real roots\n"
          ]
        }
      ],
      "source": [
        "#import math package to use math.sqrt for finding Square Root\n",
        "import math\n",
        "\n",
        "# Taking Input from the User\n",
        "a=int(input(\"Enter the value of a: \"))\n",
        "b=int(input(\"Enter the value of b: \"))\n",
        "c=int(input(\"Enter the value of c: \"))\n",
        "\n",
        "# Formula for findint Discriminant\n",
        "d=(b*b)-(4*a*c)\n",
        "\n",
        "# Finding Real Roots\n",
        "if d<0:\n",
        "  print(\"This equation has no real roots\")\n",
        "else:\n",
        "  root1=(-b-math.sqrt(d))/(2*a)\n",
        "  root2=(-b+math.sqrt(d))/(2*a)\n",
        "  print(\"The roots of the equation are\",root1, \"and\",root2)"
      ]
    },
    {
      "cell_type": "markdown",
      "metadata": {
        "id": "Z8RARhVECKL2"
      },
      "source": [
        "## **Practical 3 (H)**"
      ]
    },
    {
      "cell_type": "markdown",
      "metadata": {
        "id": "_XFbbHfMCJ5y"
      },
      "source": [
        "**Aim -- Write a rogram to determine the length of ladder required to reach a given height when leaned against the house. The height and the angle of the ladder are given as inputs.(Use Math Library)**"
      ]
    },
    {
      "cell_type": "code",
      "execution_count": null,
      "metadata": {
        "colab": {
          "base_uri": "https://localhost:8080/"
        },
        "id": "sPhQD2w9-Kes",
        "outputId": "3dab370f-6899-4898-ea24-95c7b9f27098"
      },
      "outputs": [
        {
          "name": "stdout",
          "output_type": "stream",
          "text": [
            "Enter the height of the wall: 60\n",
            "Enter the angle of the ladder: 6\n",
            "574.0063340103376\n"
          ]
        }
      ],
      "source": [
        "#import math package to use math.sin and math.radian for finding Angle\n",
        "import math\n",
        "\n",
        "# Taking Input from the User\n",
        "height = int(input(\"Enter the height of the wall: \"))\n",
        "angle = int(input(\"Enter the angle of the ladder: \"))\n",
        "r = math.radians(angle)\n",
        "s = math.sin(r)\n",
        "# Calculating the Length of the Ladder\n",
        "length = height/math.sin(math.radians(angle))\n",
        "\n",
        "# Printing the Output\n",
        "print(length)"
      ]
    },
    {
      "cell_type": "markdown",
      "metadata": {
        "id": "fLSFKE0dFawk"
      },
      "source": [
        "## **Practical 4 (A)**"
      ]
    },
    {
      "cell_type": "markdown",
      "metadata": {
        "id": "bw-KKonWFaS8"
      },
      "source": [
        "**Aim -- A year is a Leap year if it is divisible by 4, unless it is a century year that is not divisible by 400 (1800 and 1900 are not leap years, 1600 and 2000 are leap years). Write a program that calculates whether a given year is a leap year or not.**"
      ]
    },
    {
      "cell_type": "code",
      "execution_count": null,
      "metadata": {
        "colab": {
          "base_uri": "https://localhost:8080/"
        },
        "id": "UVKQsJ0YDYnE",
        "outputId": "c0c758ed-2d0b-4329-fe1e-e7a2434259bf"
      },
      "outputs": [
        {
          "name": "stdout",
          "output_type": "stream",
          "text": [
            "Please enter a year: 2004\n",
            "2004 is a leap year\n"
          ]
        }
      ],
      "source": [
        "# Taking Year as Input\n",
        "year = int(input(\"Please enter a year: \"))\n",
        "\n",
        "# Checking if it is a leap year\n",
        "if (year % 4) == 0:\n",
        "   if (year % 100) == 0:\n",
        "       if (year % 400) == 0:\n",
        "           print(\"{0} is a leap year\".format(year))\n",
        "       else:\n",
        "           print(\"{0} is not a leap year\".format(year))\n",
        "   else:\n",
        "       print(\"{0} is a leap year\".format(year))\n",
        "else:\n",
        "   print(\"{0} is not a leap year\".format(year))"
      ]
    },
    {
      "cell_type": "markdown",
      "metadata": {
        "id": "s9UZ_YuMHRTO"
      },
      "source": [
        "## **Practical 4 (B)**"
      ]
    },
    {
      "cell_type": "markdown",
      "metadata": {
        "id": "5_gSGicmHRJ-"
      },
      "source": [
        "**Aim -- Many companies pay time-and-a-half for any hours worked above 40 hours in a given week. Write a program to input the number of hours worked and hourly rate and calculate the total wages for the week.**"
      ]
    },
    {
      "cell_type": "code",
      "execution_count": null,
      "metadata": {
        "colab": {
          "base_uri": "https://localhost:8080/"
        },
        "id": "iVlGh7OZF6NI",
        "outputId": "c967c83f-3f4e-4a3f-cbce-84b1edf1ff74"
      },
      "outputs": [
        {
          "name": "stdout",
          "output_type": "stream",
          "text": [
            "Enter the number of hours worked: 45\n",
            "Enter the hourly rate: 20\n",
            "The total wages for the week are:  950.0\n"
          ]
        }
      ],
      "source": [
        "# Taking Input from User\n",
        "hours_worked = float(input('Enter the number of hours worked: '))\n",
        "hourly_rate = float(input('Enter the hourly rate: '))\n",
        "\n",
        "# Calculating Total Wages\n",
        "if hours_worked > 40:\n",
        "    overtime = hours_worked - 40\n",
        "    total_wages = 40 * hourly_rate + 1.5 * overtime * hourly_rate\n",
        "else:\n",
        "    total_wages = hours_worked * hourly_rate\n",
        "\n",
        "# Printing the Output\n",
        "print('The total wages for the week are: ', total_wages)"
      ]
    },
    {
      "cell_type": "markdown",
      "metadata": {
        "id": "oK0cAIqQ_aNT"
      },
      "source": [
        "## **Practical 4 (C)**"
      ]
    },
    {
      "cell_type": "markdown",
      "metadata": {
        "id": "fc7_VtGg_Z77"
      },
      "source": [
        "**Aim -- The Body Mass Index is calculated as a person's height(in meters). If the BMI is between 19 and 25, the person is healthy. If the BMI is below 19, then the person is underweight. If theBMI is above 25, then the person is overweight. Write a program to get a person's weight(in kgs) nad height(in cms) and display a message whether the person is healthy, underweight or overweight. BMI= weight in kg/(height in m)2**"
      ]
    },
    {
      "cell_type": "code",
      "execution_count": null,
      "metadata": {
        "colab": {
          "base_uri": "https://localhost:8080/"
        },
        "id": "PC9_TBRrzOrU",
        "outputId": "207256dc-6b15-4e9f-9dd2-0965c54a3fb0"
      },
      "outputs": [
        {
          "name": "stdout",
          "output_type": "stream",
          "text": [
            "Enter your height in cm: 156\n",
            "Enter your weight in kg: 60\n",
            "Your BMI is:  25\n",
            "Your weight is normal.\n"
          ]
        }
      ],
      "source": [
        "def bodymassindex(height, weight):\n",
        "    return round(weight/(height/100)**2)\n",
        "\n",
        "h = int (input(\"Enter your height in cm: \"))\n",
        "w = int (input(\"Enter your weight in kg: \"))\n",
        "\n",
        "bmi = bodymassindex(h, w)\n",
        "print(\"Your BMI is: \", bmi)\n",
        "\n",
        "\n",
        "if bmi < 19:\n",
        "    print(\"You are underweight.\")\n",
        "elif 19 < bmi <= 25:\n",
        "    print(\"Your weight is normal.\")\n",
        "else:\n",
        "    print(\"You are overweight.\")\n"
      ]
    },
    {
      "cell_type": "markdown",
      "metadata": {
        "id": "3eyTHFAEfVUR"
      },
      "source": [
        "## **Practical 4 (D)**"
      ]
    },
    {
      "cell_type": "markdown",
      "metadata": {
        "id": "Gi6m8TcUe8Uz"
      },
      "source": [
        "**Aim -- Write a program to read the marks and assign a grade to a student. Grading system:  A (>=90), B (80-89), C (70-79), D (60-69), E (50-59), F(<50) (Use the Switch Case)**"
      ]
    },
    {
      "cell_type": "code",
      "execution_count": null,
      "metadata": {
        "colab": {
          "base_uri": "https://localhost:8080/"
        },
        "id": "zzIAUrEHfdUy",
        "outputId": "f4b2c25f-fdca-4bd1-a185-4e1d3cdef3c4"
      },
      "outputs": [
        {
          "name": "stdout",
          "output_type": "stream",
          "text": [
            "Enter the Marks = 91\n",
            "A\n"
          ]
        }
      ],
      "source": [
        "marks = int(input(\"Enter the Marks = \"))\n",
        "if (marks>=90):\n",
        "  print(\"A\")\n",
        "elif (marks>=80 and marks<=89):\n",
        "  print(\"B\")\n",
        "elif (marks>=70 and marks<=79):\n",
        "  print(\"C\")\n",
        "elif (marks>=60 and marks<=69):\n",
        "  print(\"D\")\n",
        "elif (marks>=50 and marks<=59):\n",
        "  print(\"E\")\n",
        "else:\n",
        "  print(\"F\")"
      ]
    },
    {
      "cell_type": "markdown",
      "metadata": {
        "id": "m1zV8--ZKH1j"
      },
      "source": [
        "## **Practical 5 (A)**"
      ]
    },
    {
      "cell_type": "markdown",
      "metadata": {
        "id": "S5e5vJ_2fQUo"
      },
      "source": [
        "**AIM -- Write a program to read n numbers from users\n",
        "and calculate the average of those n numbers.**"
      ]
    },
    {
      "cell_type": "code",
      "execution_count": null,
      "metadata": {
        "colab": {
          "base_uri": "https://localhost:8080/"
        },
        "id": "s3B8D-2ANsQ9",
        "outputId": "295c2e2b-2a72-462a-8c3a-3c09b9671cc9"
      },
      "outputs": [
        {
          "name": "stdout",
          "output_type": "stream",
          "text": [
            "SUM = 27\n",
            "LEN = 5\n",
            "AVERAGE =  5.4\n"
          ]
        }
      ],
      "source": [
        "def average(*args):\n",
        "  c = args[0:]\n",
        "  print('SUM =', sum(c))\n",
        "  print('LEN =', len(c))\n",
        "  avg = sum(c)/ len(c)\n",
        "  print('AVERAGE = ',avg)\n",
        "\n",
        "average(1,4,5,7,10)"
      ]
    },
    {
      "cell_type": "markdown",
      "metadata": {
        "id": "2JsRpq8MJ9EZ"
      },
      "source": [
        "## **Practical 5 (B)**"
      ]
    },
    {
      "cell_type": "markdown",
      "metadata": {
        "id": "lVcm64yqKKVg"
      },
      "source": [
        "**AIM -- Write program to print below pattern.**\n",
        "\n",
        "                *\n",
        "              *   *\n",
        "             *  *  *\n",
        "            *  *  *  *\n",
        "          *  *  *  *  *"
      ]
    },
    {
      "cell_type": "code",
      "execution_count": null,
      "metadata": {
        "colab": {
          "base_uri": "https://localhost:8080/"
        },
        "id": "E2UYaw35UDhd",
        "outputId": "1fe39107-e8d2-4614-d754-a43daaf4c136"
      },
      "outputs": [
        {
          "name": "stdout",
          "output_type": "stream",
          "text": [
            "        * \n",
            "       * * \n",
            "      * * * \n",
            "     * * * * \n",
            "    * * * * * \n"
          ]
        }
      ],
      "source": [
        "def pattern(rows):\n",
        "  k = 2 * rows - 2\n",
        "  for i in range(0, rows):\n",
        "      for j in range(0, k):\n",
        "          print(end=\" \")\n",
        "      k = k - 1\n",
        "      for j in range(0, i + 1):\n",
        "          print(\"* \", end=\"\")\n",
        "      print(\"\")\n",
        "pattern(5)"
      ]
    },
    {
      "cell_type": "markdown",
      "metadata": {
        "id": "8OrAMkf9Tc1d"
      },
      "source": [
        "## **Practical 5 (C)**"
      ]
    },
    {
      "cell_type": "markdown",
      "metadata": {
        "id": "7vtNZaumfkjh"
      },
      "source": [
        "**AIM -- Write programs to print below pattern: **\n",
        "\n",
        "          1\n",
        "          1 2\n",
        "          1 2 3\n",
        "          1 2 3 4\n",
        "          1 2 3 4 5"
      ]
    },
    {
      "cell_type": "code",
      "execution_count": null,
      "metadata": {
        "colab": {
          "base_uri": "https://localhost:8080/"
        },
        "id": "MtjQoFpPTgxo",
        "outputId": "ace1ebc6-3fb6-4538-bf3c-54529e2bd5e3"
      },
      "outputs": [
        {
          "name": "stdout",
          "output_type": "stream",
          "text": [
            "1 \n",
            "1 2 \n",
            "1 2 3 \n",
            "1 2 3 4 \n",
            "1 2 3 4 5 \n"
          ]
        }
      ],
      "source": [
        "def pattern (rows):\n",
        "  for i in range(1, rows + 1):\n",
        "      for j in range(1, i + 1):\n",
        "          print(j, end=' ')\n",
        "      print('')\n",
        "pattern(5)"
      ]
    },
    {
      "cell_type": "markdown",
      "metadata": {
        "id": "UDxbUd6_TRcu"
      },
      "source": [
        "## **Practical 5 (D)**"
      ]
    },
    {
      "cell_type": "markdown",
      "metadata": {
        "id": "PymRCOozgGh3"
      },
      "source": [
        "**AIM -- Write a program to sum the following series:**\n",
        "![image.png](data:image/png;base64,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)"
      ]
    },
    {
      "cell_type": "code",
      "execution_count": null,
      "metadata": {
        "colab": {
          "base_uri": "https://localhost:8080/"
        },
        "id": "aPj0-6OiL0ue",
        "outputId": "147cd902-707f-40b7-a1b0-944d1d17f385"
      },
      "outputs": [
        {
          "name": "stdout",
          "output_type": "stream",
          "text": [
            "Sum of the Series =  46.10464832285218\n"
          ]
        }
      ],
      "source": [
        "  for i in range(1,100,2):\n",
        "    sum += num/denom\n",
        "    num += 2\n",
        "    denom += 2\n",
        "  print(\"Sum of the Series = \",sum)\n",
        "frac_series()"
      ]
    },
    {
      "cell_type": "markdown",
      "metadata": {
        "id": "Qs_uf2f_8yZt"
      },
      "source": [
        "## **Practical 5 (E)**"
      ]
    },
    {
      "cell_type": "markdown",
      "metadata": {
        "id": "ev9b-YOegYy1"
      },
      "source": [
        "**AIM -- A positive integer is called a perfect number if it\n",
        "is equal to the sum of all of its positive divisors,\n",
        "excluding itself. For example, 6 is the first\n",
        "perfect number, because 6 = 3 + 2 + 1, the next\n",
        "is 28 = 14 + 7 + 4 + 2 + 1. There are four perfect\n",
        "numbers that are less than 10,000. Write a\n",
        "program to find these four numbers.**"
      ]
    },
    {
      "cell_type": "code",
      "execution_count": null,
      "metadata": {
        "colab": {
          "base_uri": "https://localhost:8080/"
        },
        "id": "6qXtVQICYhfv",
        "outputId": "95e4431b-cad4-49d7-a7d4-803cab640bc1"
      },
      "outputs": [
        {
          "name": "stdout",
          "output_type": "stream",
          "text": [
            "6\n",
            "28\n",
            "496\n",
            "8128\n"
          ]
        }
      ],
      "source": [
        "def is_perfect(number):\n",
        "   sum = 0\n",
        "   for divisor in range(1,number):\n",
        "    if number % divisor == 0:\n",
        "       sum += divisor\n",
        "   return sum == number\n",
        "\n",
        "for number in range(1,10000 + 1):\n",
        "  if is_perfect(number):\n",
        "    print(number)."
      ]
    },
    {
      "cell_type": "markdown",
      "metadata": {
        "id": "I1xjm59Q-bZS"
      },
      "source": [
        "## **Practical 6 (A)**"
      ]
    },
    {
      "cell_type": "markdown",
      "metadata": {
        "id": "303aGoG1gt0c"
      },
      "source": [
        "**AIM -- Write a program to perform the below operations\n",
        "on the list.**\n",
        "\n",
        "                   Create a list.\n",
        "                   Add/Remove an item to/from a list.\n",
        "                   Get the number of elements in the list.\n",
        "                   Access elements of the list using the index.\n",
        "                   Sort the list.\n",
        "                   Reverse the list."
      ]
    },
    {
      "cell_type": "code",
      "execution_count": null,
      "metadata": {
        "colab": {
          "base_uri": "https://localhost:8080/"
        },
        "id": "zVYRogzj-e-Y",
        "outputId": "72a507cb-058e-420b-d430-367f6d8624c7"
      },
      "outputs": [
        {
          "name": "stdout",
          "output_type": "stream",
          "text": [
            "List = [8, 3, -2, 1, 7]\n",
            "Added Element = [8, 3, -2, 1, 7, 6]\n",
            "Removed Element = [8, 3, -2, 7, 6]\n",
            "Length of List = 5\n",
            "Accesed Element of the List = 7\n",
            "Sorted List = [-2, 3, 6, 7, 8]\n",
            "Reverse List = [8, 7, 6, 3, -2]\n"
          ]
        }
      ],
      "source": [
        "# Create a List\n",
        "list=[8,3,-2,1,7]\n",
        "print(\"List =\",list)\n",
        "\n",
        "# Add/Remove an item to/from a List\n",
        "list.append(6)\n",
        "print(\"Added Element =\",list)\n",
        "list.remove(1)\n",
        "print(\"Removed Element =\",list)\n",
        "\n",
        "# Get the Number of Elements in the List\n",
        "a=len(list)\n",
        "print(\"Length of List =\",a)\n",
        "\n",
        "# Access Elements of the List using the Index\n",
        "b=list[3]\n",
        "print(\"Accesed Element of the List =\",b)\n",
        "\n",
        "# Sort the List\n",
        "list.sort()\n",
        "print(\"Sorted List =\",list)\n",
        "\n",
        "# Reverse the List\n",
        "print(\"Reverse List =\",list[::-1])"
      ]
    },
    {
      "cell_type": "markdown",
      "metadata": {
        "id": "ZrjkTm53C27C"
      },
      "source": [
        "## **Practical 6(B)**"
      ]
    },
    {
      "cell_type": "markdown",
      "metadata": {
        "id": "MRqs8HWLhRUw"
      },
      "source": [
        "**AIM -- Write a program to read n numbers from a user\n",
        "and print:**\n",
        "\n",
        "            ● Number of positive numbers.\n",
        "            ● Number of negative numbers.\n",
        "            ● Number of zeros.\n",
        "            ● Number of odd numbers.\n",
        "            ● Number of even numbers.\n",
        "            ● Average of all numbers."
      ]
    },
    {
      "cell_type": "code",
      "execution_count": null,
      "metadata": {
        "colab": {
          "base_uri": "https://localhost:8080/"
        },
        "id": "4ok6uVFgC64l",
        "outputId": "ce8f1c1a-d583-4f92-96fa-2e028fda1b14"
      },
      "outputs": [
        {
          "name": "stdout",
          "output_type": "stream",
          "text": [
            "Positive Number = 8\n",
            "Positive Number = 1\n",
            "Negative Numbers = -6\n",
            "Zeros = 0\n",
            "Zeros = 0\n",
            "Positive Number = 8\n",
            "Negative Numbers = -4\n",
            "Positive Number = 7\n",
            "Positive Number = 2\n",
            "Positive Number = 8\n",
            "Even  Numbers = 8\n",
            "Odd Numbers = 1\n",
            "Even  Numbers = -6\n",
            "Even  Numbers = 0\n",
            "Even  Numbers = 0\n",
            "Even  Numbers = 8\n",
            "Even  Numbers = -4\n",
            "Odd Numbers = 7\n",
            "Even  Numbers = 2\n",
            "Even  Numbers = 8\n",
            "Average = 2.4\n"
          ]
        }
      ],
      "source": [
        "l1=[8,1,-6,0,0,8,-4,7,2,8]\n",
        "\n",
        "# Positive Numbers\n",
        "for i in l1:\n",
        "  if i>0:\n",
        "    print(\"Positive Number =\",i)\n",
        "\n",
        "# Negative Numbers\n",
        "  elif i<0:\n",
        "    print(\"Negative Numbers =\",i)\n",
        "\n",
        "# Zeroes\n",
        "  else:\n",
        "    print(\"Zeros =\",i)\n",
        "\n",
        "\n",
        "# Number of Odd Numbers\n",
        "for i in l1:\n",
        "  if i%2!=0:\n",
        "    print(\"Odd Numbers =\",i)\n",
        "\n",
        "# Even Numbers\n",
        "  else:\n",
        "    print(\"Even  Numbers =\",i)\n",
        "\n",
        "# Average of Numbers\n",
        "for i in l1:\n",
        "  avg=sum(l1)/len(l1)\n",
        "print(\"Average =\",avg)"
      ]
    },
    {
      "cell_type": "markdown",
      "metadata": {
        "id": "KXmvdSrXOPFV"
      },
      "source": [
        "## **Practical 6(C)**"
      ]
    },
    {
      "cell_type": "markdown",
      "metadata": {
        "id": "t4iEBg3xhfjW"
      },
      "source": [
        "**AIM -- Write a program that counts the occurrences of\n",
        "each digit in a string. The program counts how\n",
        "many times a digit appears in the string. For\n",
        "example, if the input is \"12203AB3\", then the\n",
        "output should output 0 (1 time), 1 (1 time), 2 (2\n",
        "times), 3 (2 times).**"
      ]
    },
    {
      "cell_type": "code",
      "execution_count": null,
      "metadata": {
        "colab": {
          "base_uri": "https://localhost:8080/"
        },
        "id": "mnhRdo8pGbE1",
        "outputId": "e1259f3a-baf9-4335-bd0c-f5abb0b5d138"
      },
      "outputs": [
        {
          "output_type": "stream",
          "name": "stdout",
          "text": [
            "Enter a STRING = 8160084728\n",
            "0 appeared 2 times\n",
            "1 appeared 1 times\n",
            "2 appeared 1 times\n",
            "3 appeared 0 times\n",
            "4 appeared 1 times\n",
            "5 appeared 0 times\n",
            "6 appeared 1 times\n",
            "7 appeared 1 times\n",
            "8 appeared 3 times\n",
            "9 appeared 0 times\n"
          ]
        }
      ],
      "source": [
        "s = input(\"Enter a STRING = \")\n",
        "for i in range(10):\n",
        "  y = s.count(str(i))\n",
        "  print(i,\"appeared\",y,\"times\")"
      ]
    },
    {
      "cell_type": "markdown",
      "metadata": {
        "id": "WqeyAOoFOUrb"
      },
      "source": [
        "## **Practical 6(D)**"
      ]
    },
    {
      "cell_type": "markdown",
      "metadata": {
        "id": "hZLWDXgjiKgr"
      },
      "source": [
        "**AIM -- Write a program to eliminate duplicate values in\n",
        "the list.**"
      ]
    },
    {
      "cell_type": "code",
      "execution_count": null,
      "metadata": {
        "colab": {
          "base_uri": "https://localhost:8080/"
        },
        "id": "awETCZBgOYOM",
        "outputId": "6f293511-9ffa-4a31-a376-57837e8e5f38"
      },
      "outputs": [
        {
          "name": "stdout",
          "output_type": "stream",
          "text": [
            "Enter a String = 8160084728\n",
            "List without Duplicate Elements = ['8', '1', '6', '0', '4', '7', '2']\n"
          ]
        }
      ],
      "source": [
        "def dup(list):\n",
        "  num=[]\n",
        "  for i in list:\n",
        "    if i not in num:\n",
        "      num.append(i)\n",
        "  print(\"List without Duplicate Elements =\",num)\n",
        "list=input(\"Enter a String = \")\n",
        "dup(list)"
      ]
    },
    {
      "cell_type": "markdown",
      "metadata": {
        "id": "aFnJ-L8dOY_M"
      },
      "source": [
        "## **Practical 6(E)**"
      ]
    },
    {
      "cell_type": "markdown",
      "metadata": {
        "id": "jNbAvqKVjF3Z"
      },
      "source": [
        "**AIM -- A list contains the average daily temperature(in\n",
        "degree Celsius) of a city over a particular week.\n",
        "Write a Python code to swap the highest and the\n",
        "lowest temperatures.\n",
        "temperatures = [34, 40, 29, 33, 42, 37, 39 ]**"
      ]
    },
    {
      "cell_type": "code",
      "execution_count": null,
      "metadata": {
        "colab": {
          "base_uri": "https://localhost:8080/"
        },
        "id": "RkGdP2RCObFz",
        "outputId": "46566bd4-bfb8-42e9-fd76-551b05adeb0a"
      },
      "outputs": [
        {
          "name": "stdout",
          "output_type": "stream",
          "text": [
            "Swapped Element's List: [34, 40, 42, 33, 29, 37, 39]\n"
          ]
        }
      ],
      "source": [
        "temperature=[34,40,29,33,42,37,39]\n",
        "\n",
        "max_temp=max(temperature)\n",
        "min_temp=min(temperature)\n",
        "\n",
        "max_index=temperature.index(max_temp)\n",
        "min_index=temperature.index(min_temp)\n",
        "\n",
        "temperature[min_index],temperature[max_index]=temperature[max_index],temperature[min_index]\n",
        "\n",
        "print(\"Swapped Element's List:\",temperature)"
      ]
    },
    {
      "cell_type": "markdown",
      "metadata": {
        "id": "qzAgeEqcBpko"
      },
      "source": [
        "## **Practical 7(A)**"
      ]
    },
    {
      "cell_type": "markdown",
      "metadata": {
        "id": "aHtG94yQ2uRR"
      },
      "source": [
        "**Aim -- Write a program to perform below operations on\n",
        "tuple:**\n",
        "\n",
        "* Create a tuple with different data types.\n",
        "* Print tuple items.\n",
        "* Convert tuple into a list.\n",
        "* Remove data items from a list.\n",
        "* Convert list into a tuple.\n",
        "* Print tuple items."
      ]
    },
    {
      "cell_type": "code",
      "execution_count": null,
      "metadata": {
        "colab": {
          "base_uri": "https://localhost:8080/"
        },
        "id": "7rEXEhB1I_sM",
        "outputId": "b3b762b7-4768-4d46-a682-fe9b41f9a335"
      },
      "outputs": [
        {
          "name": "stdout",
          "output_type": "stream",
          "text": [
            "Created Tuple =  (10, 29.75, 'Hello', 400, 386, 'Vraj', 5.9)\n",
            "\n",
            "Converted Tuple as List =  [10, 29.75, 'Hello', 400, 386, 'Vraj', 5.9]\n",
            "\n",
            "Removed Item from List =  [10, 29.75, 'Hello', 400, 'Vraj', 5.9]\n",
            "\n",
            "Converted List as Tuple =  (10, 29.75, 'Hello', 400, 'Vraj', 5.9)\n",
            "\n",
            "Tuple Items =  (10, 29.75, 'Hello', 400, 'Vraj', 5.9)\n"
          ]
        }
      ],
      "source": [
        "def number():\n",
        "  # Create a Tuple with different Data Types\n",
        "  x = (10,29.75,\"Hello\",400,386,\"Vraj\",5.9)\n",
        "\n",
        "  # Print Tuple Items\n",
        "  print(\"Created Tuple = \",x)\n",
        "  print()\n",
        "\n",
        "  # Convert Tuple into a List\n",
        "  y=list(x)\n",
        "  print(\"Converted Tuple as List = \",y)\n",
        "  print()\n",
        "\n",
        "  # Remove Data Element from List\n",
        "  y.remove(386)\n",
        "  print(\"Removed Item from List = \",y)\n",
        "  print()\n",
        "\n",
        "  # Convert List into a Tuple\n",
        "  z=tuple(y)\n",
        "  print(\"Converted List as Tuple = \",z)\n",
        "  print()\n",
        "\n",
        "  # Printing Tuple Items\n",
        "\n",
        "  print(\"Tuple Items = \",z)\n",
        "number()"
      ]
    },
    {
      "cell_type": "markdown",
      "metadata": {
        "id": "9kRtk3mo5Cd_"
      },
      "source": [
        "## **Practical 7(B)**"
      ]
    },
    {
      "cell_type": "markdown",
      "metadata": {
        "id": "QuXngwbF5HY5"
      },
      "source": [
        "**Aim -- Write a program to perform below operations on set:**\n",
        "\n",
        "* Create two different sets with the data.\n",
        "* Print set items.\n",
        "* Add/remove items in/from a set.\n",
        "* Perform operations on sets: union intersection, difference, symmetric difference, check subset of another set.\n",
        "\n",
        "\n",
        "\n"
      ]
    },
    {
      "cell_type": "code",
      "execution_count": null,
      "metadata": {
        "colab": {
          "base_uri": "https://localhost:8080/"
        },
        "id": "S1eVQyudjQNy",
        "outputId": "9dc725db-4b62-4127-9174-0351fa66f245"
      },
      "outputs": [
        {
          "name": "stdout",
          "output_type": "stream",
          "text": [
            "SET 1 =  {2, 4, 5, 7, 10, 13, 17, 19}\n",
            "SET 2 =  {1, 4, 6, 9, 10, 12, 14, 15, 16, 18}\n",
            "\n",
            "Item Added in SET 1 =  {2, 4, 5, 7, 10, 13, 17, 19, 28}\n",
            "\n",
            "Item Removed in SET 1 =  {2, 4, 5, 7, 10, 13, 17, 28}\n",
            "\n",
            "Union =  {1, 2, 4, 5, 6, 7, 9, 10, 12, 13, 14, 15, 16, 17, 18, 28}\n",
            "\n",
            "Intersection =  {10, 4}\n",
            "\n",
            "Difference =  {2, 5, 7, 13, 17, 28}\n",
            "\n",
            "Symmetric Difference =  {1, 2, 5, 6, 7, 9, 12, 13, 14, 15, 16, 17, 18, 28}\n",
            "\n",
            "Subset =  True\n"
          ]
        }
      ],
      "source": [
        "def set():\n",
        "\n",
        "  # Create Two Different Sets with the Data\n",
        "  x={2,4,5,7,10,13,17,19}\n",
        "  y={1,4,6,9,10,12,14,15,16,18}\n",
        "\n",
        "  # Print Set Items\n",
        "  print(\"SET 1 = \",x)\n",
        "  print(\"SET 2 = \",y)\n",
        "  print()\n",
        "\n",
        "  # Add Item in Set\n",
        "  x.add(28)\n",
        "  print(\"Item Added in SET 1 = \",x)\n",
        "  print()\n",
        "\n",
        "  # Remove Item in Set\n",
        "  x.remove(19)\n",
        "  print(\"Item Removed in SET 1 = \",x)\n",
        "  print()\n",
        "\n",
        "  # Union Operation\n",
        "  u=x.union(y)\n",
        "  print(\"Union = \",u)\n",
        "  print()\n",
        "\n",
        "  # Intersection Operation\n",
        "  i=x.intersection(y)\n",
        "  print(\"Intersection = \",i)\n",
        "  print()\n",
        "\n",
        "  # Difference\n",
        "  d=x.difference(y)\n",
        "  print(\"Difference = \",d)\n",
        "  print()\n",
        "\n",
        "  # Symmetric Difference\n",
        "  s=x.symmetric_difference(y)\n",
        "  print(\"Symmetric Difference = \",s)\n",
        "  print()\n",
        "\n",
        "  # Check Subset of a Another Set\n",
        "  t=x.issubset(x)\n",
        "  print(\"Subset = \",t)\n",
        "\n",
        "set()"
      ]
    },
    {
      "cell_type": "markdown",
      "metadata": {
        "id": "73U5vAEJEddy"
      },
      "source": [
        "## **Practical 7(C)**"
      ]
    },
    {
      "cell_type": "markdown",
      "metadata": {
        "id": "68J9kapZEhc7"
      },
      "source": [
        "**Aim -- Write a program to perform below operations on\n",
        "dictionary:**\n",
        "\n",
        "* Create a dictionary.\n",
        "* Print dictionary items.\n",
        "* Add/remove key-value pair in/from a dictionary.\n",
        "* Check whether a key exists in a dictionary.\n",
        "* Iterate through a dictionary.\n",
        "* Concatenate multiple dictionaries."
      ]
    },
    {
      "cell_type": "code",
      "execution_count": null,
      "metadata": {
        "colab": {
          "base_uri": "https://localhost:8080/"
        },
        "id": "bssQ9xnlCtPR",
        "outputId": "390139a8-aa16-43b7-ef7c-3c873dfd5f4d"
      },
      "outputs": [
        {
          "name": "stdout",
          "output_type": "stream",
          "text": [
            "Dictionary =  {'India': 91, 'France': 33, 'Japan': 81, 'UK': 44}\n",
            "\n",
            "Adding Key-Value to country_code\n",
            "Enter Key = USA\n",
            "Enter Value = 01\n",
            "{'India': 91, 'France': 33, 'Japan': 81, 'UK': 44, 'USA': '01'}\n",
            "Value added Successfully !!\n",
            "\n",
            "Removing Key-Value from country_code\n",
            "Enter Key = France\n",
            "{'India': 91, 'Japan': 81, 'UK': 44, 'USA': '01'}\n",
            "Key-Value deleted Successfully !!\n",
            "\n",
            "Checking whether a Key exists in country_code\n",
            "Enter Key = Japan\n",
            "Key-Value Exists !!\n",
            "\n",
            "Iterating through a Dictonaries\n",
            "India : 91\n",
            "Japan : 81\n",
            "UK : 44\n",
            "USA : 01\n",
            "\n",
            "Concatenating two Dictonaries\n",
            "The first dictionary is :\n",
            "{'Japan': 81, 'France': 33}\n",
            "The second dictionary is :\n",
            "{'UK': 44}\n",
            "The concatenated dictionary is :\n",
            "{'Japan': 81, 'France': 33, 'UK': 44}\n"
          ]
        }
      ],
      "source": [
        "# Creating a Dictionary\n",
        "country_code = {\"India\":91 , \"France\":33 , \"Japan\":81 , \"UK\":44}\n",
        "\n",
        "# Print Items in Dictionary\n",
        "print(\"Dictionary = \",country_code)\n",
        "\n",
        "# Adding Key-Value Pair in Dictionary\n",
        "print()\n",
        "print(\"Adding Key-Value to country_code\")\n",
        "key_input= str(input(\"Enter Key = \"))\n",
        "value_input= str(input(\"Enter Value = \"))\n",
        "country_code[key_input]=value_input\n",
        "print(country_code)\n",
        "print(\"Value added Successfully !!\")\n",
        "\n",
        "# Removing Key-Value Pair from Dictionary\n",
        "print()\n",
        "print(\"Removing Key-Value from country_code\")\n",
        "key_input= str(input(\"Enter Key = \"))\n",
        "del country_code[key_input]\n",
        "print(country_code)\n",
        "print(\"Key-Value deleted Successfully !!\")\n",
        "\n",
        "# Check whether a Key exists in Dictionary\n",
        "print()\n",
        "print(\"Checking whether a Key exists in country_code\")\n",
        "key_input= str(input(\"Enter Key = \"))\n",
        "if key_input in country_code:\n",
        "  print(\"Key-Value Exists !!\")\n",
        "else:\n",
        "  print(\"Key-Value doesn't Exists !!\")\n",
        "\n",
        "# Iterate through a dictionary\n",
        "print()\n",
        "print(\"Iterating through a Dictonaries\")\n",
        "for country, code in country_code.items():\n",
        "  print(country, \":\", code)\n",
        "\n",
        "# Concatenate two Dictionaries\n",
        "print()\n",
        "print(\"Concatenating two Dictonaries\")\n",
        "country_code1 = {'Japan':81,'France':33}\n",
        "country_code2 = {'UK':44}\n",
        "print(\"The first dictionary is :\")\n",
        "print(country_code1)\n",
        "print(\"The second dictionary is :\")\n",
        "print(country_code2)\n",
        "country_code1.update(country_code2)\n",
        "print(\"The concatenated dictionary is :\")\n",
        "print(country_code1)"
      ]
    },
    {
      "cell_type": "markdown",
      "metadata": {
        "id": "EJVbkacwEAge"
      },
      "source": [
        "## **Practical 7(D)**"
      ]
    },
    {
      "cell_type": "markdown",
      "metadata": {
        "id": "v-dmqhLNEYiJ"
      },
      "source": [
        "**Aim -- Write a Program that is given a dictionary containing the average daily temperature for each day of the week, and print all the days on which the average temperature was between 40 and 50 degrees.**"
      ]
    },
    {
      "cell_type": "code",
      "execution_count": null,
      "metadata": {
        "colab": {
          "base_uri": "https://localhost:8080/"
        },
        "id": "QIsX8citEPzr",
        "outputId": "8cfc2f7b-c20c-49e2-a775-be20587c8a09"
      },
      "outputs": [
        {
          "name": "stdout",
          "output_type": "stream",
          "text": [
            "Monday\n",
            "Wednesday\n",
            "Friday\n",
            "Sunday\n"
          ]
        }
      ],
      "source": [
        "temp={\"Monday\":42.4,\n",
        "      \"Tuesday\":39.6,\n",
        "      \"Wednesday\":45.8,\n",
        "      \"Thursday\":38.7,\n",
        "      \"Friday\":46.3,\n",
        "      \"Saturday\":37.9,\n",
        "      \"Sunday\":49.1\n",
        "      }\n",
        "for i,j in temp.items():\n",
        "  if (j>=40 and j<=50):\n",
        "    print(i)"
      ]
    },
    {
      "cell_type": "markdown",
      "metadata": {
        "id": "vLGxa17CEOdh"
      },
      "source": [
        "## **Practical 7(E)**"
      ]
    },
    {
      "cell_type": "markdown",
      "metadata": {
        "id": "JawfnLDcLSQC"
      },
      "source": [
        "**Aim -- Write Python script to check whether a given key already exists in a dictionary. If it does , drop that key from the dictionary. If it does not, add that key and corresponding value to the dictionary.**"
      ]
    },
    {
      "cell_type": "code",
      "execution_count": null,
      "metadata": {
        "colab": {
          "base_uri": "https://localhost:8080/"
        },
        "id": "ANvaw-OoEPSw",
        "outputId": "d00b2763-7c0c-4150-e923-ebebbd1cd338"
      },
      "outputs": [
        {
          "name": "stdout",
          "output_type": "stream",
          "text": [
            "Enter Key = Key2\n",
            "Enter Value = Vatsal\n",
            "Value added Successfully !!\n"
          ]
        }
      ],
      "source": [
        "key_input= str(input(\"Enter Key = \"))\n",
        "value_input= str(input(\"Enter Value = \"))\n",
        "dictionary = {'Key1':'Vraj'}\n",
        "\n",
        "if key_input in dictionary:\n",
        "  del dictionary[key_input]\n",
        "  print(\"Key already Exists, Value Deleted !!\")\n",
        "\n",
        "else:\n",
        "  dictionary[key_input]=value_input\n",
        "  print(\"Value added Successfully !!\")"
      ]
    },
    {
      "cell_type": "markdown",
      "metadata": {
        "id": "Pk1pvHGREQdL"
      },
      "source": [
        "## **Practical 8(A)**"
      ]
    },
    {
      "cell_type": "markdown",
      "metadata": {
        "id": "rq_DxKV7lNIO"
      },
      "source": [
        "**Aim -- Write a program that defines a function (shuffle) to scramble a list into a random order, like shuffling a deck of cards.**"
      ]
    },
    {
      "cell_type": "code",
      "execution_count": null,
      "metadata": {
        "colab": {
          "base_uri": "https://localhost:8080/"
        },
        "id": "beMU49fNK134",
        "outputId": "2ddb5bfb-bc01-4dca-c7f2-33ef3a00ec72"
      },
      "outputs": [
        {
          "data": {
            "text/plain": [
              "[8, 2, 7, 0, 4, 6, 0, 8, 8, 1]"
            ]
          },
          "execution_count": 10,
          "metadata": {},
          "output_type": "execute_result"
        }
      ],
      "source": [
        "import random\n",
        "\n",
        "l = [8,1,6,0,0,8,4,7,2,8]\n",
        "\n",
        "def shufle(l):\n",
        "  random.shuffle(l)\n",
        "  return l\n",
        "\n",
        "shufle(l)"
      ]
    },
    {
      "cell_type": "markdown",
      "metadata": {
        "id": "KafW6D2QUd23"
      },
      "source": [
        "## **Practical 8(B)**"
      ]
    },
    {
      "cell_type": "markdown",
      "metadata": {
        "id": "3Omlmyj_Udii"
      },
      "source": [
        "**Aim -- Write a program that defines a function to return a new list by eliminating the duplicate values in the list.**"
      ]
    },
    {
      "cell_type": "code",
      "execution_count": null,
      "metadata": {
        "colab": {
          "base_uri": "https://localhost:8080/"
        },
        "id": "SUFTRTL-IBun",
        "outputId": "448a1e4e-8c20-49ba-8f7b-590720180d56"
      },
      "outputs": [
        {
          "data": {
            "text/plain": [
              "[8, 1, 6, 0, 4, 7, 2]"
            ]
          },
          "execution_count": 11,
          "metadata": {},
          "output_type": "execute_result"
        }
      ],
      "source": [
        "list1 = [8,1,6,0,0,8,4,7,2,8]\n",
        "list2 = []\n",
        "def dup(x):\n",
        "  for i in list1:\n",
        "    if i not in list2:\n",
        "      list2.append(i)\n",
        "  return list2\n",
        "dup(list1)\n"
      ]
    },
    {
      "cell_type": "markdown",
      "metadata": {
        "id": "ksXxPqaTdL3c"
      },
      "source": [
        "## **Practical 8(C)**"
      ]
    },
    {
      "cell_type": "markdown",
      "metadata": {
        "id": "BChhtVwKdPaJ"
      },
      "source": [
        "**Aim -- Write a program that lets the user enter the loan amount , number of years , and interest rate and defines a function to calculate monthly EMI, total payment and display the amortization schedule for the loan.**"
      ]
    },
    {
      "cell_type": "code",
      "execution_count": null,
      "metadata": {
        "colab": {
          "base_uri": "https://localhost:8080/"
        },
        "id": "VlCZHLdzV-UC",
        "outputId": "116da3de-a773-4d5a-ae05-12af4c5b4bee"
      },
      "outputs": [
        {
          "name": "stdout",
          "output_type": "stream",
          "text": [
            "Enter the Amount of Loan:10000\n",
            "Enter the Interest:2\n",
            "Enter Total No. of Year:1\n",
            "\n",
            "Rate of Interest: 200\n",
            "Total Amount: 10200\n",
            "EMI: 850\n",
            "\n",
            "Amortization Chart\n",
            "\n",
            "Principal \t EMI \t   Interest \t      Balance\n",
            "10200 \t\t 850 \t\t 2 \t\t 9350\n",
            "9350 \t\t 850 \t\t 2 \t\t 8500\n",
            "8500 \t\t 850 \t\t 2 \t\t 7650\n",
            "7650 \t\t 850 \t\t 2 \t\t 6800\n",
            "6800 \t\t 850 \t\t 2 \t\t 5950\n",
            "5950 \t\t 850 \t\t 2 \t\t 5100\n",
            "5100 \t\t 850 \t\t 2 \t\t 4250\n",
            "4250 \t\t 850 \t\t 2 \t\t 3400\n",
            "3400 \t\t 850 \t\t 2 \t\t 2550\n",
            "2550 \t\t 850 \t\t 2 \t\t 1700\n",
            "1700 \t\t 850 \t\t 2 \t\t 850\n",
            "850 \t\t 850 \t\t 2 \t\t 0\n"
          ]
        }
      ],
      "source": [
        "def loan():\n",
        " principal=int(input(\"Enter the Amount of Loan:\"))\n",
        " interest=int(input(\"Enter the Interest:\"))\n",
        " year=int(input(\"Enter Total No. of Year:\"))\n",
        "\n",
        " total_interest=round((principal*year*interest)/100)\n",
        " total_amount=round(principal+total_interest)\n",
        " emi=round(total_amount/(year*12))\n",
        "\n",
        " print()\n",
        " print(\"Rate of Interest:\",total_interest)\n",
        " print(\"Total Amount:\",total_amount)\n",
        " print(\"EMI:\",emi)\n",
        " print()\n",
        " print(\"Amortization Chart\")\n",
        " print()\n",
        " print(\"Principal\"\" \\t \"\"EMI\"\" \\t   \"\"Interest\"\" \\t      \"\"Balance\")\n",
        "\n",
        " balance=total_amount-emi\n",
        "\n",
        " print(total_amount,\"\\t\\t\",emi,\"\\t\\t\",interest,\"\\t\\t\",balance)\n",
        "\n",
        " for i in range(1,year*12):\n",
        "   total_amount=balance\n",
        "   balance=total_amount-emi\n",
        "   print(total_amount,\"\\t\\t\",emi,\"\\t\\t\",interest,\"\\t\\t\",balance)\n",
        "\n",
        "loan()\n"
      ]
    },
    {
      "cell_type": "markdown",
      "metadata": {
        "id": "08QyMzeKHuNi"
      },
      "source": [
        "## **Practical 9(A)**\n"
      ]
    },
    {
      "cell_type": "markdown",
      "metadata": {
        "id": "gouzfQfYJgpW"
      },
      "source": [
        "**Aim -- Write a program that defines functions (mean and deviation), that computes mean and standard deviation of given numbers. The formula for the mean and standard deviatin of n numbers is given as :**"
      ]
    },
    {
      "cell_type": "code",
      "execution_count": null,
      "metadata": {
        "colab": {
          "base_uri": "https://localhost:8080/"
        },
        "id": "2re1dN51fNNO",
        "outputId": "ebc8f130-5804-4a20-8845-42caf7ab8b71"
      },
      "outputs": [
        {
          "name": "stdout",
          "output_type": "stream",
          "text": [
            "Mean of [1, 2, 3, 4, 5] = 3.0\n",
            "Standard Deviation of [1, 2, 3, 4, 5] = 1.0\n"
          ]
        }
      ],
      "source": [
        "def mean(numbers):\n",
        "  return sum(numbers)/len(numbers)\n",
        "\n",
        "def deviation(numbers):\n",
        "  mean_val = mean(numbers)\n",
        "  variances = [(x - mean_val)**2 for x in numbers]\n",
        "  return ((sum(variances)/len(numbers) - 1))** 0.5\n",
        "\n",
        "numbers = [1,2,3,4,5]\n",
        "\n",
        "mean_val = mean(numbers)\n",
        "dev_val = deviation(numbers)\n",
        "\n",
        "print(\"Mean of\",numbers,\"=\",mean_val)\n",
        "print(\"Standard Deviation of\",numbers,\"=\",dev_val)"
      ]
    },
    {
      "cell_type": "markdown",
      "metadata": {
        "id": "u4WVcSzhH0Aq"
      },
      "source": [
        "## **Practical 9(B)**"
      ]
    },
    {
      "cell_type": "markdown",
      "metadata": {
        "id": "IAO6SU1OJhMO"
      },
      "source": [
        "**Aim -- Write a program to print the dates of all the Sundays in a given year.**"
      ]
    },
    {
      "cell_type": "code",
      "execution_count": null,
      "metadata": {
        "colab": {
          "base_uri": "https://localhost:8080/"
        },
        "id": "L6eZdb1zH0_s",
        "outputId": "3d70933f-0e3c-465b-e3b2-368a4372253e"
      },
      "outputs": [
        {
          "output_type": "stream",
          "name": "stdout",
          "text": [
            "Enter the Year : 2023\n",
            "\n",
            "Sundays in the Year 2023\n",
            "2023-01-01\n",
            "2023-01-08\n",
            "2023-01-15\n",
            "2023-01-22\n",
            "2023-01-29\n",
            "2023-02-05\n",
            "2023-02-12\n",
            "2023-02-19\n",
            "2023-02-26\n",
            "2023-03-05\n",
            "2023-03-12\n",
            "2023-03-19\n",
            "2023-03-26\n",
            "2023-04-02\n",
            "2023-04-09\n",
            "2023-04-16\n",
            "2023-04-23\n",
            "2023-04-30\n",
            "2023-05-07\n",
            "2023-05-14\n",
            "2023-05-21\n",
            "2023-05-28\n",
            "2023-06-04\n",
            "2023-06-11\n",
            "2023-06-18\n",
            "2023-06-25\n",
            "2023-07-02\n",
            "2023-07-09\n",
            "2023-07-16\n",
            "2023-07-23\n",
            "2023-07-30\n",
            "2023-08-06\n",
            "2023-08-13\n",
            "2023-08-20\n",
            "2023-08-27\n",
            "2023-09-03\n",
            "2023-09-10\n",
            "2023-09-17\n",
            "2023-09-24\n",
            "2023-10-01\n",
            "2023-10-08\n",
            "2023-10-15\n",
            "2023-10-22\n",
            "2023-10-29\n",
            "2023-11-05\n",
            "2023-11-12\n",
            "2023-11-19\n",
            "2023-11-26\n",
            "2023-12-03\n",
            "2023-12-10\n",
            "2023-12-17\n",
            "2023-12-24\n",
            "2023-12-31\n"
          ]
        }
      ],
      "source": [
        "import datetime\n",
        "\n",
        "year = int(input(\"Enter the Year : \"))\n",
        "\n",
        "first_sunday = datetime.date(year,1,1)\n",
        "\n",
        "if first_sunday.isoweekday() != 7:\n",
        "  first_sunday = first_sunday + datetime.timedelta(7-first_sunday.isoweekday())\n",
        "\n",
        "print()\n",
        "print(\"Sundays in the Year\",year)\n",
        "while first_sunday.year == year:\n",
        "  print(first_sunday)\n",
        "  first_sunday=first_sunday + datetime.timedelta(days=7)"
      ]
    },
    {
      "cell_type": "markdown",
      "metadata": {
        "id": "jBXsPEsvV-HN"
      },
      "source": [
        "## **Practical 9(C)**"
      ]
    },
    {
      "cell_type": "markdown",
      "metadata": {
        "id": "oIkxtiFPW2X0"
      },
      "source": [
        "**Aim -- Write a program to display a graph for ReLU (Rectified Linear Unit) function. ReLU function is defined as below: y=max(0,x) Consider the range of X  from -5 to 5.**"
      ]
    },
    {
      "cell_type": "code",
      "execution_count": null,
      "metadata": {
        "colab": {
          "base_uri": "https://localhost:8080/",
          "height": 281
        },
        "id": "Jvg0SXKfQwH7",
        "outputId": "e9772fed-b14c-49a8-b9fa-068026aae599"
      },
      "outputs": [
        {
          "data": {
            "image/png": "[encoded data removed]",
            "text/plain": [
              "<Figure size 432x288 with 1 Axes>"
            ]
          },
          "metadata": {},
          "output_type": "display_data"
        }
      ],
      "source": [
        "import matplotlib.pyplot as plt\n",
        "import numpy as np\n",
        "\n",
        "x = np.arange(-5,5)\n",
        "\n",
        "def ReLU(x):\n",
        "  return np.maximum(0,x)\n",
        "\n",
        "y=ReLU(x)\n",
        "\n",
        "plt.title('ReLU Function')\n",
        "plt.plot(x,y)\n",
        "plt.grid()\n",
        "plt.show()"
      ]
    },
    {
      "cell_type": "markdown",
      "metadata": {
        "id": "HQYPP0jTZXvO"
      },
      "source": [
        "## **Practical 9(D)**"
      ]
    },
    {
      "cell_type": "markdown",
      "metadata": {
        "id": "Pzq8dAwhZXdU"
      },
      "source": [
        "**Aim -- Write a program to create a list representing the results of 100 students in a test, where each element represents a student's marks (between 0 to 10), and display a histogram for the result.**"
      ]
    },
    {
      "cell_type": "code",
      "execution_count": null,
      "metadata": {
        "colab": {
          "base_uri": "https://localhost:8080/",
          "height": 295
        },
        "id": "KbVYPF1NZZZT",
        "outputId": "9cedee5b-ca99-40b6-efd7-78a7daab2ce4"
      },
      "outputs": [
        {
          "data": {
            "image/png": "[encoded data removed]",
            "text/plain": [
              "<Figure size 432x288 with 1 Axes>"
            ]
          },
          "metadata": {},
          "output_type": "display_data"
        }
      ],
      "source": [
        "import matplotlib.pyplot as plt\n",
        "\n",
        "marks_list = [1,2,3,4,5,6,7,8,9,10,\n",
        "              10,9,9,8,7,7,6,5,5,4,\n",
        "              3,3,2,1,1,1,1,2,2,3,\n",
        "              3,4,4,5,5,6,6,7,7,8,\n",
        "              8,9,9,10,10,8,5,2,3,4,\n",
        "              6,7,9,1,2,3,5,8,2,1,\n",
        "              6,4,7,9,3,2,1,4,5,6,\n",
        "              7,8,9,7,8,9,4,1,2,3,\n",
        "              6,9,8,7,4,1,2,3,6,9,\n",
        "              8,7,4,1,5,9,6,4,5,7]\n",
        "\n",
        "bins=[0,1,2,3,4,5,6,7,8,9,10]\n",
        "plt.hist(marks_list,bins,histtype='bar',rwidth=0.8)\n",
        "plt.xlabel('Marks Range')\n",
        "plt.ylabel('Number of Students')\n",
        "plt.title('Result of 100 Students')\n",
        "plt.show()"
      ]
    },
    {
      "cell_type": "markdown",
      "metadata": {
        "id": "W_3Y1tXJJmg8"
      },
      "source": [
        "## **Practical 9(E)**"
      ]
    },
    {
      "cell_type": "markdown",
      "metadata": {
        "id": "j9KVR7s0JmS7"
      },
      "source": [
        "**Aim -- Create a user defined module with simple functions for: addition, subtraction, multiplication, division, modulo, square, factorial. Write a program to import the module and access functions defined in the module.**"
      ]
    },
    {
      "cell_type": "code",
      "execution_count": null,
      "metadata": {
        "id": "bIPG67n2JnFx"
      },
      "outputs": [],
      "source": [
        "import math\n",
        "def sum(a,b):\n",
        "  return a+b\n",
        "def sub(a,b):\n",
        "  return a-b\n",
        "def mul(a,b):\n",
        "  return a*b\n",
        "def div(a,b):\n",
        "  return a/b\n",
        "def mod(a,b):\n",
        "  return a%b\n",
        "def sqrt(a,b):\n",
        "  return a**b\n",
        "def fact(n):\n",
        "  return math.factorial(n)"
      ]
    },
    {
      "cell_type": "markdown",
      "metadata": {
        "id": "oYRjxHDoWUAt"
      },
      "source": [
        "![image.png](data:image/png;base64,iVBORw0KGgoAAAANSUhEUgAAALAAAAAvCAYAAABDh0DIAAAFbUlEQVR4nO2cwU9aWRSHP6d16LMuGHRiGsyERNyZmC4q3WnTDTtSFtbEpPgfNLOpcUMIG8Oy/wFO0qSysGHnxoiLJoqLSRt3QMICYkjVYaF9UjtxFjx574Gt+IDqnZ4vIeFezrv3vMOP8849C/p0XT9HEBTll5t2QBA6QQQsKI0IWFAaEbCgNCJgQWlEwILSiIAFpREBC0ojAhaURgQsKI0IWFAaEbCgNCJgQWlEwILSdC7g8gGbWol1rUKhCw4JsLOsoWnmK5G9aY9uLz95Bq6yrZXYTH2+aUdsBJZ0dF1HzycJ3bQzt5y7Ha/gHeaJ3gVPBMEBP3kGFlTHuYAbta/xmj/gsMmksFxifbnKYapct1mu2q7bzlrXKvOhbFzznTVb9m2pvT/zYb51r3VLqdDwRzumCtQiR5b1Oikpdkho1vo1wU6L/6vM2WzmWC073K5dshXb/X3rvGLGpWR+Xx1QSc3Zavm5VKWj9S7DuYC9wzzRRwnqo4xHv2O3d8LHwn2CW/0QP2HzVQ1P3sODMFQ3rAE6Z99fIscgQX2UoD6Ie+2UXUsQD1Nl1v2naFujhs0o49Ezcob4bcSPWffX8OQN261+apEjtrMwNOs19wBcK57GekF9lCezA9ePRzaBps0Qi2bq9auuo+szZJatEt4h8QpeNz7XyUTTLPh7KOLyAZsbLsv9eXgQPiPXJOLDVJndCDzIm3F4NHZiJplrUWF1XsMXgWTevNfXJLt+n70vIdbA88JtDM4h9BuTXmO499WeYaODBJcubN2Mr/RBvGYEukouco5rxcPjKfOSsaVB3Jyz/1dztuhnXPeae025cAN6sRcHtgqrr2MQzaAvBSzzARabx2+eM2KdeZEkRJp377ufnYB6omnEFGCAyZf9wBmfLOKsFs4h7GLUa84NzXptsW6bbJKFtRDJ/FueW9YbmV20jbtB7wXcFBTN9+3s5n7qto2HfHeBrxyXgWyN6qXXu/k9SuuPIXwHd5PdY6fZ9SrKGd6tQexp4GrbZrw+Hnbfoyv2vIOraco91gdrp+xeVrZdk52NGISfMdNlsV5G512IH0of2reCsvYvVWDoR7pzQblImhDP2vjCKqk5fJF0y3wv22WF5RK5eOu8Znk/NOsl6KuwPn3KrlaqT9qeiO1SobgHTPhsT5pe8f/pQrRk3B+I10eINMUr6rsL8ca2dEudnCHWQ9fq4u2z1bbB/L2WDAzA1IjlbEH9HHHtg9wIvglgr0iPiiIbt1rAhY0zswSZcuHmnKP3zTVslU9xcIUGHGTfX9HCUCt86cxRowyIbbT0HCxUyKTTEE6y4KSudEQ9NkTvm2eBNhlbMkTcXJq1gW8sBGvvyPS6u8JtFnC2Qi4O7pfDhjDrh7pa5B9bx6GwfEyVfv5wVNsOMDgBxE9auxjXIsDCSgjiM02toh0SjS6EkZmsX2x5lTltpocZuP4DNQ/C1Ftq/lNqNrvPfJhvbq0Z4p+4e+3EMDL7JzHSLPjtbcRKKtH1LoTjGrjedrH+K5VZO7lWPI4OS9XpEuuNUf2xN9l0Kn5EmV1/if2LyfA9HunDjmvfsSUPx3tH7FvWdOL/yOxbdF8CbdqHFrmYjZHRFxs2gaUiyT0fC36NhcbnGR5qM/zdsNoh0STq9LRmjOvrtX9UHGDyzRd07ZicViIH9Xjl7/DRf9pit31hY+Ba8RB0lBgCLOpFfPM+ZjTzTkIrRd52+WDXdyv+G618wKbR33XUthF+Wm5vCSEIbSACFpRGBCwoze2ogQXBIZKBBaURAQtKIwIWlEYELCiNCFhQGhGwoDQiYEFpRMCC0oiABaURAQtKIwIWlEYELCiNCFhQGhGwoDT/AS0OL2T9yjiUAAAAAElFTkSuQmCC)\n",
        "\n",
        "![image.png](data:image/png;base64,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)\n",
        "\n",
        "![image.png](data:image/png;base64,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)\n",
        "\n",
        "![image.png](data:image/png;base64,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)\n",
        "\n",
        "![image.png](data:image/png;base64,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)\n",
        "\n",
        "![image.png](data:image/png;base64,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)\n",
        "\n",
        "![image.png](data:image/png;base64,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)\n",
        "\n",
        "![image.png](data:image/png;base64,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)\n",
        "\n"
      ]
    },
    {
      "cell_type": "markdown",
      "metadata": {
        "id": "vvKLSc4EJtmp"
      },
      "source": [
        "## **Practical 10(A)**"
      ]
    },
    {
      "cell_type": "markdown",
      "metadata": {
        "id": "MJCDFUv_Lsv5"
      },
      "source": [
        "**Aim -- Write a program to check whether a given string is Palindrome or not.**"
      ]
    },
    {
      "cell_type": "code",
      "execution_count": null,
      "metadata": {
        "colab": {
          "base_uri": "https://localhost:8080/"
        },
        "id": "DuDgBGXoKiwZ",
        "outputId": "5b4ed692-718f-4d62-9a1e-56e54123742f"
      },
      "outputs": [
        {
          "name": "stdout",
          "output_type": "stream",
          "text": [
            "Enter the String : VRAJJARV\n",
            "The string is a Palindrome.\n"
          ]
        }
      ],
      "source": [
        "my_str = input(\"Enter the String : \")\n",
        "\n",
        "# reverse the string\n",
        "rev_str = reversed(my_str)\n",
        "\n",
        "# check if the string is equal to its reverse\n",
        "if list(my_str) == list(rev_str):\n",
        "   print(\"The string is a Palindrome.\")\n",
        "else:\n",
        "   print(\"The string is not a Palindrome.\")\n"
      ]
    },
    {
      "cell_type": "markdown",
      "metadata": {
        "id": "KOQ94wnEJtkS"
      },
      "source": [
        "## **Practical 10(B)**"
      ]
    },
    {
      "cell_type": "markdown",
      "metadata": {
        "id": "1HeMfajwOAuh"
      },
      "source": [
        "**Aim -- Write a program to read a string containing letters, each of which may be in either uppercase or lowercase, and return a tuple containing the number of vowels and consonants in the string.**"
      ]
    },
    {
      "cell_type": "code",
      "execution_count": null,
      "metadata": {
        "colab": {
          "base_uri": "https://localhost:8080/"
        },
        "id": "PFVkJH9HOBdi",
        "outputId": "850142b1-b0f8-4b09-9ef4-48e68d259b27"
      },
      "outputs": [
        {
          "name": "stdout",
          "output_type": "stream",
          "text": [
            "Enter a String : VRAJ PATEL\n",
            "('CONSONANT = ', 7, 'VOWEL = ', 3)\n"
          ]
        }
      ],
      "source": [
        "str = input(\"Enter a String : \")\n",
        "\n",
        "vowel = 0\n",
        "consonant = 0\n",
        "\n",
        "for i in str:\n",
        "  if(i=='A' or i=='E' or i=='I' or i=='O' or i=='U' or i=='a' or i=='e' or i=='i' or i=='o' or i=='u'):\n",
        "    vowel=vowel+1\n",
        "\n",
        "  else:\n",
        "    consonant=consonant+1\n",
        "\n",
        "t = tuple((\"CONSONANT = \",consonant,\"VOWEL = \",vowel))\n",
        "print(t)"
      ]
    },
    {
      "cell_type": "markdown",
      "metadata": {
        "id": "MysJFh1oZF9f"
      },
      "source": [
        "## **Practical 10(C)**"
      ]
    },
    {
      "cell_type": "markdown",
      "metadata": {
        "id": "dtRTB76HZFqA"
      },
      "source": [
        "**Aim -- Write a Program to read a date in the format DD/MM/YYYY and print the same date in MM-DD-YYYY format.**"
      ]
    },
    {
      "cell_type": "code",
      "execution_count": null,
      "metadata": {
        "colab": {
          "base_uri": "https://localhost:8080/"
        },
        "id": "lPstuvIiewUA",
        "outputId": "f18e7c8d-ce60-4e30-88d6-8cecdb74a357"
      },
      "outputs": [
        {
          "name": "stdout",
          "output_type": "stream",
          "text": [
            "Enter the Date in DD/MM/YYYY format = 11/12/2022\n",
            "Date in format MM-DD-YYYY = 12-11-2022\n"
          ]
        }
      ],
      "source": [
        "def date():\n",
        "  d=input(\"Enter the Date in DD/MM/YYYY format = \")\n",
        "  a=d.split(\"/\")\n",
        "  print(\"Date in format MM-DD-YYYY = {}-{}-{}\".format(a[1],a[0],a[2]))\n",
        "\n",
        "date()"
      ]
    },
    {
      "cell_type": "markdown",
      "metadata": {
        "id": "DlXDswgtexLu"
      },
      "source": [
        "## **Practical 10(D)**"
      ]
    },
    {
      "cell_type": "markdown",
      "metadata": {
        "id": "GbsNpFjGeysc"
      },
      "source": [
        "**Aim -- Write a program that checks whether two words are anagrams. Two words are anagrams if they contain the same letters. For example, silent and listen are anagrams.**"
      ]
    },
    {
      "cell_type": "code",
      "execution_count": null,
      "metadata": {
        "colab": {
          "base_uri": "https://localhost:8080/"
        },
        "id": "e3U7cZXPexdG",
        "outputId": "06fef90c-4ccd-4ced-b086-fc47a5aea097"
      },
      "outputs": [
        {
          "name": "stdout",
          "output_type": "stream",
          "text": [
            "Enter Word 1 : SILENT\n",
            "Enter Word 2 : LISTEN\n",
            "SILENT and LISTEN ARE ANAGRAM WORD\n"
          ]
        }
      ],
      "source": [
        "def anagram():\n",
        "  s1=input(\"Enter Word 1 : \")\n",
        "  s2=input(\"Enter Word 2 : \")\n",
        "  a=s1.lower()\n",
        "  b=s2.lower()\n",
        "  x=sorted(a)\n",
        "  y=sorted(b)\n",
        "  if x==y:\n",
        "    print(s1,\"and\",s2,\"ARE ANAGRAM WORD\")\n",
        "  else:\n",
        "    print(s1,\"and\",s2,\"ARE NOT ANAGRAM WORDS\")\n",
        "\n",
        "anagram()"
      ]
    },
    {
      "cell_type": "markdown",
      "metadata": {
        "id": "4BZ5Q5HDew7i"
      },
      "source": [
        "## **Practical 10(E)**\n"
      ]
    },
    {
      "cell_type": "markdown",
      "metadata": {
        "id": "e0gL9okKo6uf"
      },
      "source": [
        "**Aim -- Write a program that allows users to enter six- digit RGB color codes and converts them into base 10. In this format, the first two hexadecimal digits represent the amount of red, the second two the amount of green, and the last two the amount of blue. For example: If a user enters FF6347, then the output should be Red (255), Green (99) and Blue (71))**"
      ]
    },
    {
      "cell_type": "code",
      "execution_count": null,
      "metadata": {
        "colab": {
          "base_uri": "https://localhost:8080/"
        },
        "id": "qQWSlR7vpCTG",
        "outputId": "57b8f107-9b1f-4f5b-c33f-46acd852aa83"
      },
      "outputs": [
        {
          "name": "stdout",
          "output_type": "stream",
          "text": [
            "ENTER THE RGB COLOR CODE = FF6347\n",
            "RED =  255\n",
            "GREEN =  99\n",
            "BLUE =  71\n",
            "RGB Code = (255,99,71)\n"
          ]
        }
      ],
      "source": [
        "def RGB():\n",
        "  code=input(\"ENTER THE RGB COLOR CODE = \")\n",
        "  red=int(code[0:2],16)\n",
        "  green=int(code[2:4],16)\n",
        "  blue=int(code[4:6],16)\n",
        "  print(\"RED = \",red)\n",
        "  print(\"GREEN = \",green)\n",
        "  print(\"BLUE = \",blue)\n",
        "  print(\"RGB Code = ({},{},{})\".format(red,green,blue))\n",
        "\n",
        "RGB()"
      ]
    },
    {
      "cell_type": "markdown",
      "metadata": {
        "id": "oK6mwxhspmO1"
      },
      "source": [
        "## **Practical 10(F)**"
      ]
    },
    {
      "cell_type": "markdown",
      "metadata": {
        "id": "iTNRh6k5pmCr"
      },
      "source": [
        "**Aim -- Numerologists claim to be able to determine a person's character traits based on the \"numeric value\" of a name. The value of a name is determined by summing up the values of the letters of the name, where \"a\" is 1 \"b\" is 2 \"c\" is 3 and so on up to \"z\" being 26. For example, the name \"Python\" would have the value 16 + 25 + 20 + 8 + 15 + 14 = 98. Write a program that calculates the numeric value of a name provided as input.**"
      ]
    },
    {
      "cell_type": "code",
      "execution_count": null,
      "metadata": {
        "colab": {
          "base_uri": "https://localhost:8080/"
        },
        "id": "QMXMEhDVabLp",
        "outputId": "9443fb7c-ac30-49d3-eda8-e34956ac33de"
      },
      "outputs": [
        {
          "name": "stdout",
          "output_type": "stream",
          "text": [
            "Enter a String = VRAJ\n",
            "v = 22\n",
            "Letter's Sum =  22\n",
            "r = 18\n",
            "Letter's Sum =  40\n",
            "a = 1\n",
            "Letter's Sum =  41\n",
            "j = 10\n",
            "Letter's Sum =  51\n"
          ]
        }
      ],
      "source": [
        "def numeric_val():\n",
        "  s1=input(\"Enter a String = \")\n",
        "  sum=0\n",
        "  for i in s1.lower():\n",
        "    print(i,\"=\",ord(i)-96)\n",
        "    sum+=ord(i)-96\n",
        "    print(\"Letter's Sum = \",sum)\n",
        "\n",
        "numeric_val()"
      ]
    },
    {
      "cell_type": "markdown",
      "metadata": {
        "id": "ETi7XL-k9VXZ"
      },
      "source": [
        "## **Practical 11(A)**"
      ]
    },
    {
      "cell_type": "markdown",
      "metadata": {
        "id": "VoZ2tUC-KGQi"
      },
      "source": [
        "**Aim -- Write a program to perform the below operations on files:**\n",
        "\n",
        "*   **Create a text file and write a string to it.**\n",
        "*   **Read an entire text file.**\n",
        "*   **Read a text file line by line.**\n",
        "*   **Write a string to a file.**\n",
        "*   **Write a list of strings to a file.**\n",
        "*   **Count the number of lines, words in a file.**"
      ]
    },
    {
      "cell_type": "code",
      "execution_count": null,
      "metadata": {
        "colab": {
          "base_uri": "https://localhost:8080/"
        },
        "id": "Yg8SjfBdRBmj",
        "outputId": "0fb1f951-1105-48f1-b3f8-b27b3022e98f"
      },
      "outputs": [
        {
          "name": "stdout",
          "output_type": "stream",
          "text": [
            "Writing 11A.txt\n"
          ]
        }
      ],
      "source": [
        "%%writefile \"11A.txt\"\n",
        "Hello, Good Morning !!\n",
        "My name is VRAJ PATEL.\n",
        "I Love Python."
      ]
    },
    {
      "cell_type": "code",
      "execution_count": null,
      "metadata": {
        "colab": {
          "base_uri": "https://localhost:8080/"
        },
        "id": "HjZk4ilYhcrS",
        "outputId": "1d914420-b4f4-46b2-9d73-22a4ad9162ab"
      },
      "outputs": [
        {
          "name": "stdout",
          "output_type": "stream",
          "text": [
            "Hello, Good Morning !!\n",
            "My name is VRAJ PATEL.\n",
            "I Love Python.\n",
            "\n"
          ]
        }
      ],
      "source": [
        "f = open(\"11A.txt\")\n",
        "print(f.read())\n",
        "f.close()"
      ]
    },
    {
      "cell_type": "code",
      "execution_count": null,
      "metadata": {
        "colab": {
          "base_uri": "https://localhost:8080/"
        },
        "id": "-iA6zp8fhivL",
        "outputId": "d24a8cf4-a287-43bf-ab4a-3193e1c992ff"
      },
      "outputs": [
        {
          "name": "stdout",
          "output_type": "stream",
          "text": [
            "Hello, Good Morning !!\n",
            "\n",
            "My name is VRAJ PATEL.\n",
            "\n",
            "I Love Python.\n",
            "\n"
          ]
        }
      ],
      "source": [
        "f=open(\"11A.txt\")\n",
        "b=f.readlines()\n",
        "for i in b:\n",
        "    print(i)"
      ]
    },
    {
      "cell_type": "code",
      "execution_count": null,
      "metadata": {
        "colab": {
          "base_uri": "https://localhost:8080/"
        },
        "id": "LDsm5nlxhmqb",
        "outputId": "660123f8-d930-41ae-ceef-7b0e405deecd"
      },
      "outputs": [
        {
          "name": "stdout",
          "output_type": "stream",
          "text": [
            "31\n"
          ]
        }
      ],
      "source": [
        "f=open(\"11A.txt\",\"w\")\n",
        "print(f.write(\"Python is My favourite Subject.\"))\n",
        "f.close()"
      ]
    },
    {
      "cell_type": "code",
      "execution_count": null,
      "metadata": {
        "colab": {
          "base_uri": "https://localhost:8080/"
        },
        "id": "l9kkd-DqiKvK",
        "outputId": "82ef8f27-9400-48d4-932b-f7dc4f67ed46"
      },
      "outputs": [
        {
          "name": "stdout",
          "output_type": "stream",
          "text": [
            "5\n",
            "15\n",
            "12\n"
          ]
        }
      ],
      "source": [
        "l1=[\"Hello\",\"I am Vraj Patel\",\"How are you?\"]\n",
        "f=open(\"11A.txt\",\"w\")\n",
        "for i in l1:\n",
        "    print(f.write(i))\n",
        "f.close()"
      ]
    },
    {
      "cell_type": "code",
      "execution_count": null,
      "metadata": {
        "colab": {
          "base_uri": "https://localhost:8080/"
        },
        "id": "HXiPQuZuixC7",
        "outputId": "c9da125d-8d9e-4b02-c63d-c6a247db9553"
      },
      "outputs": [
        {
          "name": "stdout",
          "output_type": "stream",
          "text": [
            "Total No. of Lines =  1\n",
            "Total No. of Words =  6\n"
          ]
        }
      ],
      "source": [
        "f=open(\"11A.txt\")\n",
        "c=f.readlines()\n",
        "a=[]\n",
        "b=[]\n",
        "for i in c:\n",
        "    b=i.split()\n",
        "    a.extend(b)\n",
        "print(\"Total No. of Lines = \",len(c))\n",
        "print(\"Total No. of Words = \",len(a))"
      ]
    },
    {
      "cell_type": "markdown",
      "metadata": {
        "id": "ypHLbXji9qxy"
      },
      "source": [
        "## **Practical 11(B)**"
      ]
    },
    {
      "cell_type": "markdown",
      "metadata": {
        "id": "Z8z8LZQwGBBn"
      },
      "source": [
        "**Aim -- Write a program that reads a text file and counts the occurrences of each alphabet in the file. The program should prompt the user to enter the filename.**"
      ]
    },
    {
      "cell_type": "code",
      "execution_count": null,
      "metadata": {
        "colab": {
          "base_uri": "https://localhost:8080/"
        },
        "id": "-RRmTdc8NnRX",
        "outputId": "2d3c8d61-4730-4903-98c3-2f190f791638"
      },
      "outputs": [
        {
          "name": "stdout",
          "output_type": "stream",
          "text": [
            "Writing 11B.txt\n"
          ]
        }
      ],
      "source": [
        "%%writefile \"11B.txt\"\n",
        "Vraj Patel -- 216470307021\n",
        "Vatsal Modi -- 216470307002\n",
        "Vainavi Raval -- 216470307017\n",
        "Kathan Lalpurwala -- 216470307018\n",
        "Dharmil Gadhiya -- 216470307016\n",
        "Rahi Gabani -- 216470307007"
      ]
    },
    {
      "cell_type": "code",
      "execution_count": null,
      "metadata": {
        "colab": {
          "base_uri": "https://localhost:8080/"
        },
        "id": "Gpw_6bRfEMjz",
        "outputId": "a4b6b142-73dc-4f68-e90f-9b00342b99b2"
      },
      "outputs": [
        {
          "name": "stdout",
          "output_type": "stream",
          "text": [
            "Enter File Name : 11B.txt\n",
            "\n",
            "Occurrences of each Alphabets in the file 11B.txt\n",
            "\n",
            "a appeared for 19 times\n",
            "b appeared for 1 times\n",
            "c appeared for 0 times\n",
            "d appeared for 2 times\n",
            "e appeared for 1 times\n",
            "f appeared for 0 times\n",
            "g appeared for 0 times\n",
            "h appeared for 4 times\n",
            "i appeared for 7 times\n",
            "j appeared for 1 times\n",
            "k appeared for 0 times\n",
            "l appeared for 6 times\n",
            "m appeared for 1 times\n",
            "n appeared for 3 times\n",
            "o appeared for 1 times\n",
            "p appeared for 1 times\n",
            "q appeared for 0 times\n",
            "r appeared for 3 times\n",
            "s appeared for 1 times\n",
            "t appeared for 3 times\n",
            "u appeared for 1 times\n",
            "v appeared for 2 times\n",
            "w appeared for 1 times\n",
            "x appeared for 0 times\n",
            "y appeared for 1 times\n",
            "z appeared for 0 times\n"
          ]
        }
      ],
      "source": [
        "f1=input(\"Enter File Name : \")\n",
        "f=open(f1,\"r\")\n",
        "a=f.read()\n",
        "from string import ascii_lowercase as asl\n",
        "print()\n",
        "print(\"Occurrences of each Alphabets in the file\",f1)\n",
        "print()\n",
        "for i in asl:\n",
        "    x=a.count(str(i))\n",
        "    print(i,\"appeared for\",x,\"times\")\n",
        "f.close()"
      ]
    },
    {
      "cell_type": "markdown",
      "metadata": {
        "id": "bVHnUh8y9qm-"
      },
      "source": [
        "## **Practical 11(C)**"
      ]
    },
    {
      "cell_type": "markdown",
      "metadata": {
        "id": "mpR33EGcGOYr"
      },
      "source": [
        "**Aim -- Write a program that reads a text file and displays all the numbers found in the file.**"
      ]
    },
    {
      "cell_type": "code",
      "execution_count": null,
      "metadata": {
        "colab": {
          "base_uri": "https://localhost:8080/"
        },
        "id": "nWhRg7XyMuhV",
        "outputId": "88c8e30a-8206-48d8-911c-c25990438e09"
      },
      "outputs": [
        {
          "name": "stdout",
          "output_type": "stream",
          "text": [
            "Overwriting 11C.txt\n"
          ]
        }
      ],
      "source": [
        "%%writefile \"11C.txt\"\n",
        "Vraj Patel -- 8160084728\n",
        "Vatsal Modi -- 9173018192\n",
        "Vainavi Raval -- 9313535739\n",
        "Kathan Lalpurwala -- 6351348255\n",
        "Dharmil Gadhiya -- 9825381557\n",
        "Rahi Gabani -- 8780514557"
      ]
    },
    {
      "cell_type": "code",
      "execution_count": null,
      "metadata": {
        "colab": {
          "base_uri": "https://localhost:8080/"
        },
        "id": "bW-4veGzRDXw",
        "outputId": "b14729c5-526c-4426-9436-7132eb6a2a4c"
      },
      "outputs": [
        {
          "name": "stdout",
          "output_type": "stream",
          "text": [
            "Enter File Name : 11C.txt\n",
            "\n",
            "Occurrences of Digits in the file 11C.txt\n",
            "\n",
            "0 appeared for 4 times\n",
            "1 appeared for 8 times\n",
            "2 appeared for 4 times\n",
            "3 appeared for 8 times\n",
            "4 appeared for 3 times\n",
            "5 appeared for 11 times\n",
            "6 appeared for 2 times\n",
            "7 appeared for 6 times\n",
            "8 appeared for 9 times\n",
            "9 appeared for 5 times\n"
          ]
        }
      ],
      "source": [
        "f1=input(\"Enter File Name : \")\n",
        "f=open(f1,\"r\")\n",
        "a=f.read()\n",
        "print()\n",
        "print(\"Occurrences of Digits in the file\",f1)\n",
        "print()\n",
        "for i in range(10):\n",
        "    x=a.count(str(i))\n",
        "    print(i,\"appeared for\",x,\"times\")"
      ]
    },
    {
      "cell_type": "markdown",
      "metadata": {
        "id": "ALQH0sef9_sE"
      },
      "source": [
        "## **Practical 11(D)**"
      ]
    },
    {
      "cell_type": "markdown",
      "metadata": {
        "id": "P91EMiMWGz29"
      },
      "source": [
        "**Aim -- Write a program that reads a text file and calculates the average word length and sentence length in that file.**"
      ]
    },
    {
      "cell_type": "code",
      "execution_count": null,
      "metadata": {
        "colab": {
          "base_uri": "https://localhost:8080/"
        },
        "id": "CH3jWgktLjhS",
        "outputId": "f3fb6ba5-5411-4e3b-e9f9-b3bc733d4131"
      },
      "outputs": [
        {
          "name": "stdout",
          "output_type": "stream",
          "text": [
            "Writing 11D.txt\n"
          ]
        }
      ],
      "source": [
        "%%writefile \"11D.txt\"\n",
        "Python is one of the few programming languages that has been designated as an official Google language.\n",
        "Python became one of Google’s official programming languages due of its efficiency.\n",
        "It was advantageous to them because it is simple to use, even on large projects.\n",
        "Even YouTube is powered by Python programming."
      ]
    },
    {
      "cell_type": "code",
      "execution_count": null,
      "metadata": {
        "colab": {
          "base_uri": "https://localhost:8080/"
        },
        "id": "-QiN5MutRD3a",
        "outputId": "3f3dfc85-1092-4f69-ae39-43a3ddce847d"
      },
      "outputs": [
        {
          "name": "stdout",
          "output_type": "stream",
          "text": [
            "Average Word Length :  5.196078431372549\n",
            "Average Sentece Length :  63.0\n"
          ]
        }
      ],
      "source": [
        "f1=open(\"11D.txt\",\"r\",encoding='utf-8')\n",
        "c=f1.read()\n",
        "a=[]\n",
        "b=[]\n",
        "y=0\n",
        "sent_length=0\n",
        "a=c.split() #words\n",
        "for i in a:\n",
        "    for j in i:\n",
        "         y=y+1  #x = no. of chars\n",
        "sent_no=c.split(\".\")\n",
        "for sentence in sent_no:\n",
        "    sent_length+= len(sentence)\n",
        "avg_w=y/len(a)\n",
        "avg_s=sent_length/len(sent_no)\n",
        "print(\"Average Word Length : \",avg_w)\n",
        "print(\"Average Sentece Length : \",avg_s)\n",
        "f1.close()"
      ]
    },
    {
      "cell_type": "markdown",
      "metadata": {
        "id": "kHx29jZY-Bq1"
      },
      "source": [
        "## **Practical 11(E)**"
      ]
    },
    {
      "cell_type": "markdown",
      "metadata": {
        "id": "75XF3l0GJs6u"
      },
      "source": [
        "**Aim -- Write a program that reads two strings stored in two different text files and prints a string containing the characters of each string interleaved. Remove white spaces from both strings before string interleaving. For example, Two strings “Hello World” and “Sky is the Limit” should generate output HSeklyliosWtohrelLdimit**"
      ]
    },
    {
      "cell_type": "code",
      "execution_count": null,
      "metadata": {
        "colab": {
          "base_uri": "https://localhost:8080/"
        },
        "id": "yIk7s2NLH6Xp",
        "outputId": "22f822db-b996-4d5f-97d2-3103d8244363"
      },
      "outputs": [
        {
          "name": "stdout",
          "output_type": "stream",
          "text": [
            "Overwriting 11E1.txt\n"
          ]
        }
      ],
      "source": [
        "%%writefile \"11E1.txt\"\n",
        "Python is one of Google’s official programming languages"
      ]
    },
    {
      "cell_type": "code",
      "execution_count": null,
      "metadata": {
        "colab": {
          "base_uri": "https://localhost:8080/"
        },
        "id": "9CH74TUBH6J0",
        "outputId": "a4b5ac05-37a6-4579-e255-47a480d5fbb8"
      },
      "outputs": [
        {
          "name": "stdout",
          "output_type": "stream",
          "text": [
            "Overwriting 11E2.txt\n"
          ]
        }
      ],
      "source": [
        "%%writefile \"11E2.txt\"\n",
        "Python is one of the most emerging programming languages"
      ]
    },
    {
      "cell_type": "code",
      "execution_count": null,
      "metadata": {
        "colab": {
          "base_uri": "https://localhost:8080/"
        },
        "id": "T4DFZIocREMB",
        "outputId": "da7f2745-8192-43f1-81a2-decada5f2d08"
      },
      "outputs": [
        {
          "name": "stdout",
          "output_type": "stream",
          "text": [
            "Contents of file 1 : Python is one of Google’s official programming languages\n",
            "\n",
            "Contents of file 2 : Python is one of the most emerging programming languages\n",
            "\n",
            "PPyytthhoonniissoonneeooffGtohoegmloes’tseomfefrigciinaglpprrooggrraammmmiinnggllaanngguuaaggeess\n",
            "\n",
            "\n"
          ]
        }
      ],
      "source": [
        "a=open(\"11E1.txt\",\"r\",encoding='utf-8')\n",
        "b=open(\"11E2.txt\",\"r\",encoding='utf-8')\n",
        "s1=a.read()\n",
        "s2=b.read()\n",
        "print(\"Contents of file 1 :\",s1)\n",
        "print(\"Contents of file 2 :\",s2)\n",
        "s1=s1.replace(\" \",\"\")\n",
        "s2=s2.replace(\" \",\"\")\n",
        "output=\"\"\n",
        "length = len(s1) if len(s1) > len(s2) else len(s2)\n",
        "for i in range(length):\n",
        "    if i<len(s1):\n",
        "        output=output+s1[i]\n",
        "    if i<len(s2):\n",
        "        output=output+s2[i]\n",
        "print(output)"
      ]
    },
    {
      "cell_type": "markdown",
      "metadata": {
        "id": "u0g9aTWJPJyw"
      },
      "source": [
        "## **PYTHON -- Exercise Practicals**"
      ]
    },
    {
      "cell_type": "markdown",
      "metadata": {
        "id": "k-gLGeghPPCx"
      },
      "source": [
        "## **Exercise - 1**"
      ]
    },
    {
      "cell_type": "markdown",
      "metadata": {
        "id": "MFcfmUnuPgSv"
      },
      "source": [
        "**Print First 10 natural numbers using while loop**"
      ]
    },
    {
      "cell_type": "code",
      "execution_count": null,
      "metadata": {
        "colab": {
          "base_uri": "https://localhost:8080/"
        },
        "id": "f3sX_EBEPfce",
        "outputId": "4640ed06-9a88-4df2-ea85-94e766a75cf6"
      },
      "outputs": [
        {
          "name": "stdout",
          "output_type": "stream",
          "text": [
            "1\n",
            "2\n",
            "3\n",
            "4\n",
            "5\n",
            "6\n",
            "7\n",
            "8\n",
            "9\n",
            "10\n"
          ]
        }
      ],
      "source": [
        "i = 1\n",
        "while i <= 10:\n",
        "    print(i)\n",
        "    i += 1"
      ]
    },
    {
      "cell_type": "markdown",
      "metadata": {
        "id": "KpAe-W0mP6_I"
      },
      "source": [
        "## **Exercise - 2**"
      ]
    },
    {
      "cell_type": "markdown",
      "metadata": {
        "id": "BmWrkjUWP-_z"
      },
      "source": [
        "**Calculate the sum of all numbers from 1 to a given number**"
      ]
    },
    {
      "cell_type": "code",
      "execution_count": null,
      "metadata": {
        "colab": {
          "base_uri": "https://localhost:8080/"
        },
        "id": "VQ2FRr_QQD6c",
        "outputId": "165645db-8255-47d9-ed84-a53f6680e35d"
      },
      "outputs": [
        {
          "name": "stdout",
          "output_type": "stream",
          "text": [
            "Enter a Number : 6\n",
            "Sum =  21\n"
          ]
        }
      ],
      "source": [
        "number = int(input(\"Enter a Number : \"))\n",
        "sum = 0\n",
        "for i in range(1, number + 1):\n",
        "    sum += i\n",
        "print(\"Sum = \",sum)"
      ]
    },
    {
      "cell_type": "markdown",
      "metadata": {
        "id": "0vfDmqg2QZxU"
      },
      "source": [
        "## **Exercise - 3**"
      ]
    },
    {
      "cell_type": "markdown",
      "metadata": {
        "id": "w3LmkJDuQwkL"
      },
      "source": [
        "**Write a program to print multiplication table of a given number**"
      ]
    },
    {
      "cell_type": "code",
      "execution_count": null,
      "metadata": {
        "colab": {
          "base_uri": "https://localhost:8080/"
        },
        "id": "I10gdLjLQwJT",
        "outputId": "5ab3dea6-afee-4e67-d6c1-a5df44a59f6a"
      },
      "outputs": [
        {
          "name": "stdout",
          "output_type": "stream",
          "text": [
            "Enter a Number : 10\n",
            "10 x 1 = 10\n",
            "10 x 2 = 20\n",
            "10 x 3 = 30\n",
            "10 x 4 = 40\n",
            "10 x 5 = 50\n",
            "10 x 6 = 60\n",
            "10 x 7 = 70\n",
            "10 x 8 = 80\n",
            "10 x 9 = 90\n",
            "10 x 10 = 100\n"
          ]
        }
      ],
      "source": [
        "num = int(input(\"Enter a Number : \"))\n",
        "\n",
        "for i in range(1, 11):\n",
        "   print(num, 'x', i, '=', num*i)"
      ]
    },
    {
      "cell_type": "markdown",
      "metadata": {
        "id": "J6KNCHYyQckF"
      },
      "source": [
        "## **Exercise - 4**"
      ]
    },
    {
      "cell_type": "markdown",
      "metadata": {
        "id": "uPhfWCVERK5b"
      },
      "source": [
        "**Print list in reverse order using a loop**"
      ]
    },
    {
      "cell_type": "code",
      "execution_count": null,
      "metadata": {
        "colab": {
          "base_uri": "https://localhost:8080/"
        },
        "id": "2RlWQXJoRzOw",
        "outputId": "c1c7066b-1c16-4c8b-dd33-60a14b7170cd"
      },
      "outputs": [
        {
          "name": "stdout",
          "output_type": "stream",
          "text": [
            "Original Array : \n",
            "1 2 3 4 5 \n",
            "Array in reverse order : \n",
            "5 4 3 2 1 "
          ]
        }
      ],
      "source": [
        "l = [1, 2, 3, 4, 5];\n",
        "print(\"Original Array : \");\n",
        "for i in range(0, len(l)):\n",
        "    print(l[i],end = \" \")\n",
        "print()\n",
        "print(\"Array in reverse order : \");\n",
        "for i in range(len(l)-1, -1, -1):\n",
        "    print(l[i],end = \" \")"
      ]
    },
    {
      "cell_type": "markdown",
      "metadata": {
        "id": "RDypElVkQeqS"
      },
      "source": [
        "## **Exercise - 5**"
      ]
    },
    {
      "cell_type": "markdown",
      "metadata": {
        "id": "Gw7bv9gCTjR7"
      },
      "source": [
        "**Display numbers from -10 to -1 using for loop**"
      ]
    },
    {
      "cell_type": "code",
      "execution_count": null,
      "metadata": {
        "colab": {
          "base_uri": "https://localhost:8080/"
        },
        "id": "pr22fu3eTnZp",
        "outputId": "d29e1db9-3d33-48f5-8e13-d0ba99c498a4"
      },
      "outputs": [
        {
          "name": "stdout",
          "output_type": "stream",
          "text": [
            "-10\n",
            "-9\n",
            "-8\n",
            "-7\n",
            "-6\n",
            "-5\n",
            "-4\n",
            "-3\n",
            "-2\n",
            "-1\n"
          ]
        }
      ],
      "source": [
        "for num in range(-10, 0, 1):\n",
        "    print(num)"
      ]
    },
    {
      "cell_type": "markdown",
      "metadata": {
        "id": "aikmJsxOQgd9"
      },
      "source": [
        "## **Exercise - 6**"
      ]
    },
    {
      "cell_type": "markdown",
      "metadata": {
        "id": "BJufqFW4T7oQ"
      },
      "source": [
        "**Use else block to display a message “Done” after successful execution of for loop**"
      ]
    },
    {
      "cell_type": "code",
      "execution_count": null,
      "metadata": {
        "colab": {
          "base_uri": "https://localhost:8080/"
        },
        "id": "-0SHISgCUB8s",
        "outputId": "366bb7b1-aa2e-4613-9971-c1efe62ebd36"
      },
      "outputs": [
        {
          "name": "stdout",
          "output_type": "stream",
          "text": [
            "0\n",
            "1\n",
            "2\n",
            "3\n",
            "4\n",
            "Done!\n"
          ]
        }
      ],
      "source": [
        "for i in range(5):\n",
        "    print(i)\n",
        "else:\n",
        "    print(\"Done!\")"
      ]
    },
    {
      "cell_type": "markdown",
      "metadata": {
        "id": "oVAiDmzhQhzn"
      },
      "source": [
        "## **Exercise - 7**"
      ]
    },
    {
      "cell_type": "markdown",
      "metadata": {
        "id": "rXlJzcJBUwmQ"
      },
      "source": [
        "**Write a program to display all prime numbers within a range**"
      ]
    },
    {
      "cell_type": "code",
      "execution_count": null,
      "metadata": {
        "colab": {
          "base_uri": "https://localhost:8080/"
        },
        "id": "2gfEk7c_UxKH",
        "outputId": "a092d495-f699-448a-98b8-ba3d2aa4cc8e"
      },
      "outputs": [
        {
          "name": "stdout",
          "output_type": "stream",
          "text": [
            "Enter Strating Number : 10\n",
            "Enter Ending Number : 20\n",
            "Prime Numbers between 10 and 20 are : \n",
            "11\n",
            "13\n",
            "17\n",
            "19\n"
          ]
        }
      ],
      "source": [
        "# Python program to display all the prime numbers within an interval\n",
        "\n",
        "start = int(input(\"Enter Strating Number : \"))\n",
        "end = int(input(\"Enter Ending Number : \"))\n",
        "\n",
        "print(\"Prime Numbers between\", start, \"and\", end, \"are : \")\n",
        "\n",
        "for num in range(start, end + 1):\n",
        "   # all prime numbers are greater than 1\n",
        "   if num > 1:\n",
        "       for i in range(2, num):\n",
        "           if (num % i) == 0:\n",
        "               break\n",
        "       else:\n",
        "           print(num)"
      ]
    },
    {
      "cell_type": "markdown",
      "metadata": {
        "id": "ageFB98GQjdz"
      },
      "source": [
        "## **Exercise - 8**"
      ]
    },
    {
      "cell_type": "markdown",
      "metadata": {
        "id": "B8_jwrDTVgsn"
      },
      "source": [
        "**Display Fibonacci series up to 10 terms**"
      ]
    },
    {
      "cell_type": "code",
      "execution_count": null,
      "metadata": {
        "colab": {
          "base_uri": "https://localhost:8080/"
        },
        "id": "9dZLZAJPVhQz",
        "outputId": "e48d3c33-952e-4e5a-cbe8-ebf5b58a7a19"
      },
      "outputs": [
        {
          "name": "stdout",
          "output_type": "stream",
          "text": [
            "Enter Total No. of Terms : 6\n",
            "Fibonacci Series : \n",
            "0\n",
            "1\n",
            "1\n",
            "2\n",
            "3\n",
            "5\n"
          ]
        }
      ],
      "source": [
        "nterms = int(input(\"Enter Total No. of Terms : \"))\n",
        "\n",
        "n1, n2 = 0, 1\n",
        "count = 0\n",
        "\n",
        "if nterms <= 0:\n",
        "   print(\"Please Enter a Positive Integer\")\n",
        "\n",
        "elif nterms == 1:\n",
        "   print(\"Fibonacci Series upto\",nterms,\":\")\n",
        "   print(n1)\n",
        "\n",
        "else:\n",
        "   print(\"Fibonacci Series : \")\n",
        "   while count < nterms:\n",
        "       print(n1)\n",
        "       nth = n1 + n2\n",
        "       n1 = n2\n",
        "       n2 = nth\n",
        "       count += 1"
      ]
    },
    {
      "cell_type": "markdown",
      "metadata": {
        "id": "25QC7BxJQk-9"
      },
      "source": [
        "## **Exercise - 9**"
      ]
    },
    {
      "cell_type": "markdown",
      "metadata": {
        "id": "ZC0JxwXgWMVG"
      },
      "source": [
        "**Find the factorial of a given number**"
      ]
    },
    {
      "cell_type": "code",
      "execution_count": null,
      "metadata": {
        "colab": {
          "base_uri": "https://localhost:8080/"
        },
        "id": "F1QT9nd2WLYe",
        "outputId": "67900c72-0443-436e-aca4-1cc76c3ab348"
      },
      "outputs": [
        {
          "name": "stdout",
          "output_type": "stream",
          "text": [
            "Enter a Number : 5\n",
            "Factorial =  120\n"
          ]
        }
      ],
      "source": [
        "num = int(input(\"Enter a Number : \"))\n",
        "def factorial(n):\n",
        "  if n==1:\n",
        "    return n\n",
        "  else:\n",
        "    return (n*factorial(n-1))\n",
        "print(\"Factorial = \",factorial(num))"
      ]
    },
    {
      "cell_type": "markdown",
      "metadata": {
        "id": "EA1BWIJ7QnKR"
      },
      "source": [
        "## **Exercise - 10**"
      ]
    },
    {
      "cell_type": "markdown",
      "metadata": {
        "id": "fLpmpuY_XDe4"
      },
      "source": [
        "**Reverse a given integer number**"
      ]
    },
    {
      "cell_type": "code",
      "execution_count": null,
      "metadata": {
        "colab": {
          "base_uri": "https://localhost:8080/"
        },
        "id": "gqmNcrkUXDK6",
        "outputId": "ee609f1c-1311-4eee-a7e0-b2253aaae560"
      },
      "outputs": [
        {
          "name": "stdout",
          "output_type": "stream",
          "text": [
            "Enter a Number : 18416\n",
            "Reversed Number =  61481\n"
          ]
        }
      ],
      "source": [
        "num = int(input(\"Enter a Number : \"))\n",
        "reversed_num = 0\n",
        "\n",
        "while num != 0:\n",
        "    digit = num % 10\n",
        "    reversed_num = reversed_num * 10 + digit\n",
        "    num //= 10\n",
        "\n",
        "print(\"Reversed Number = \",reversed_num)"
      ]
    },
    {
      "cell_type": "markdown",
      "metadata": {
        "id": "Tk9ZDyTnQobi"
      },
      "source": [
        "## **Exercise - 11**"
      ]
    },
    {
      "cell_type": "markdown",
      "metadata": {
        "id": "aaGOoqY-XhHZ"
      },
      "source": [
        "**Use a loop to display elements from a given list present at odd index positions**"
      ]
    },
    {
      "cell_type": "code",
      "execution_count": null,
      "metadata": {
        "colab": {
          "base_uri": "https://localhost:8080/"
        },
        "id": "riuFM201Xgo-",
        "outputId": "ab488b09-eda0-482a-e9b9-184f5ab61596"
      },
      "outputs": [
        {
          "name": "stdout",
          "output_type": "stream",
          "text": [
            "List Elements :  [10, 20, 30, 40, 50, 60, 70, 80, 90, 100]\n",
            "Element of Odd Index Position : \n",
            "20\n",
            "40\n",
            "60\n",
            "80\n",
            "100\n"
          ]
        }
      ],
      "source": [
        "l = [10, 20, 30, 40, 50, 60, 70, 80, 90, 100]\n",
        "print(\"List Elements : \",l)\n",
        "print(\"Element of Odd Index Position : \")\n",
        "for i in l[1::2]:\n",
        "    print(i)"
      ]
    },
    {
      "cell_type": "markdown",
      "metadata": {
        "id": "6Im8siV_QqEA"
      },
      "source": [
        "## **Exercise - 12**"
      ]
    },
    {
      "cell_type": "markdown",
      "metadata": {
        "id": "UxkmZ8FVYOfg"
      },
      "source": [
        "**Calculate the cube of all numbers from 1 to a given number**"
      ]
    },
    {
      "cell_type": "code",
      "execution_count": null,
      "metadata": {
        "colab": {
          "base_uri": "https://localhost:8080/"
        },
        "id": "CRbc79l5YSQ2",
        "outputId": "581265dd-4763-4cd3-da24-4e63f4ea160e"
      },
      "outputs": [
        {
          "name": "stdout",
          "output_type": "stream",
          "text": [
            "Enter a Number = 8\n",
            "Current Number is : 1  and the cube is 1\n",
            "Current Number is : 2  and the cube is 8\n",
            "Current Number is : 3  and the cube is 27\n",
            "Current Number is : 4  and the cube is 64\n",
            "Current Number is : 5  and the cube is 125\n",
            "Current Number is : 6  and the cube is 216\n",
            "Current Number is : 7  and the cube is 343\n",
            "Current Number is : 8  and the cube is 512\n"
          ]
        }
      ],
      "source": [
        "num = int(input(\"Enter a Number = \"))\n",
        "for i in range(1, num + 1):\n",
        "    print(\"Current Number is :\", i, \" and the cube is\", (i * i * i))"
      ]
    },
    {
      "cell_type": "markdown",
      "metadata": {
        "id": "iqAQqVcsQreG"
      },
      "source": [
        "## **Exercise - 13**"
      ]
    },
    {
      "cell_type": "markdown",
      "metadata": {
        "id": "3gDRWIE7QZiO"
      },
      "source": [
        "**Find the sum of the series upto n terms**"
      ]
    },
    {
      "cell_type": "code",
      "execution_count": null,
      "metadata": {
        "colab": {
          "base_uri": "https://localhost:8080/"
        },
        "id": "6s6aGKphYtgz",
        "outputId": "15c4270a-3da7-4085-bb3e-c693258f6f3c"
      },
      "outputs": [
        {
          "name": "stdout",
          "output_type": "stream",
          "text": [
            "2+22+222+2222+\n",
            "Sum of above series is: 2468\n"
          ]
        }
      ],
      "source": [
        "n = 4\n",
        "# first number of sequence\n",
        "start = 2\n",
        "sum_seq = 0\n",
        "\n",
        "# run loop n times\n",
        "for i in range(0, n):\n",
        "    print(start, end=\"+\")\n",
        "    sum_seq += start\n",
        "    start = start * 10 + 2\n",
        "print(\"\\nSum of above series is:\", sum_seq)"
      ]
    },
    {
      "cell_type": "markdown",
      "metadata": {
        "id": "otVHrqmILovx"
      },
      "source": [
        "## **PYTHON -- Mini Project**"
      ]
    },
    {
      "cell_type": "markdown",
      "source": [
        "**TOPIC -- Scraping Google Results: Develop a Python project that can scrape results from google based on some query.**"
      ],
      "metadata": {
        "id": "8HIdZAXMV_Pq"
      }
    },
    {
      "cell_type": "code",
      "source": [
        "!pip install fontstyle"
      ],
      "metadata": {
        "colab": {
          "base_uri": "https://localhost:8080/"
        },
        "id": "UOWb23C9BeHw",
        "outputId": "2095669e-6ca2-4692-cbbd-f3069504c4d1"
      },
      "execution_count": null,
      "outputs": [
        {
          "output_type": "stream",
          "name": "stdout",
          "text": [
            "Looking in indexes: https://pypi.org/simple, https://us-python.pkg.dev/colab-wheels/public/simple/\n",
            "Collecting fontstyle\n",
            "  Downloading fontstyle-1.0.1.2.tar.gz (6.0 kB)\n",
            "  Preparing metadata (setup.py) ... \u001b[?25l\u001b[?25hdone\n",
            "Requirement already satisfied: setuptools in /usr/local/lib/python3.10/dist-packages (from fontstyle) (67.7.2)\n",
            "Building wheels for collected packages: fontstyle\n",
            "  Building wheel for fontstyle (setup.py) ... \u001b[?25l\u001b[?25hdone\n",
            "  Created wheel for fontstyle: filename=fontstyle-1.0.1.2-py3-none-any.whl size=6397 sha256=db915c0b0045639c97a01cfdb6b46e406500cd46420326986025e436f41982a2\n",
            "  Stored in directory: /root/.cache/pip/wheels/ee/f8/dc/2978abb783862b07377b4a788b2716782f2d0cdafdb6f71f1d\n",
            "Successfully built fontstyle\n",
            "Installing collected packages: fontstyle\n",
            "Successfully installed fontstyle-1.0.1.2\n"
          ]
        }
      ]
    },
    {
      "cell_type": "code",
      "execution_count": null,
      "metadata": {
        "colab": {
          "base_uri": "https://localhost:8080/"
        },
        "id": "1EM-vtFCHxwd",
        "outputId": "ec9cc142-4271-425e-ca22-8327129403de"
      },
      "outputs": [
        {
          "output_type": "stream",
          "name": "stdout",
          "text": [
            "\n",
            "\n",
            "\n",
            "Enter your Query : youtube\n",
            "\n",
            "\u001b[1m\u001b[3mSearching.....\u001b[0m\u001b[0m\n",
            "\n",
            "----------------------------------------------------------------------------------------------------\n",
            "\n",
            "\n",
            "\u001b[1mYouTube: Home \n",
            " YouTube \n",
            " https://www.youtube.com \n",
            " YouTube \n",
            " https://www.youtube.com\u001b[0m\n",
            "\n",
            "----------------------------------------------------------------------------------------------------\n",
            "\n",
            "\u001b[1mYouTube - Apps on Google Play \n",
            " Google Play \n",
            " https://play.google.com \n",
            "  › store › apps › details › id=c... \n",
            " Google Play \n",
            " https://play.google.com \n",
            "  › store › apps › details › id=c...\u001b[0m\n",
            "\n",
            "----------------------------------------------------------------------------------------------------\n",
            "\n",
            "\u001b[1mYouTube \n",
            " Wikipedia \n",
            " https://en.wikipedia.org \n",
            "  › wiki › YouTube \n",
            " Wikipedia \n",
            " https://en.wikipedia.org \n",
            "  › wiki › YouTube\u001b[0m\n",
            "\n",
            "----------------------------------------------------------------------------------------------------\n",
            "\n",
            "\u001b[1mYouTube: Watch, Listen, Stream on the App Store \n",
            " Apple \n",
            " https://apps.apple.com \n",
            "  › app › youtube-watch-listen-stream \n",
            " Apple \n",
            " https://apps.apple.com \n",
            "  › app › youtube-watch-listen-stream\u001b[0m\n",
            "\n",
            "----------------------------------------------------------------------------------------------------\n",
            "\n",
            "\u001b[1mYouTube Blog — Official Blog for Latest YouTube News ... \n",
            " blog.youtube \n",
            " https://blog.youtube \n",
            " blog.youtube \n",
            " https://blog.youtube\u001b[0m\n",
            "\n",
            "----------------------------------------------------------------------------------------------------\n",
            "\n",
            "\u001b[1mYouTube Kids \n",
            " YouTube Kids \n",
            " https://www.youtubekids.com \n",
            " YouTube Kids \n",
            " https://www.youtubekids.com\u001b[0m\n",
            "\n",
            "----------------------------------------------------------------------------------------------------\n"
          ]
        }
      ],
      "source": [
        "import requests\n",
        "import bs4\n",
        "\n",
        "headers = {\n",
        "            'User-Agent':'Mozilla/5.0 (Windows NT 11.0; Win64; x64) AppleWebKit/537.36 (KHTML, like Gecko) Chrome/74.0.3729.169 Safari/537.36'\n",
        "          }\n",
        "\n",
        "print()\n",
        "\n",
        "\n",
        "print()\n",
        "\n",
        "print()\n",
        "query = input(\"Enter your Query : \")\n",
        "print()\n",
        "\n",
        "g = ('\\033[3m'+\"Searching.....\"+'\\033[0m')\n",
        "print('\\033[1m'+(g)+'\\033[0m')\n",
        "\n",
        "print()\n",
        "\n",
        "print('-'*100)\n",
        "\n",
        "print()\n",
        "url = \"https://www.google.com/search?q=\"+query\n",
        "\n",
        "google_search = requests.get(url,headers=headers)\n",
        "\n",
        "soup = bs4.BeautifulSoup( google_search.text , \"html.parser\" )\n",
        "\n",
        "heading_object=soup.find_all('h3')\n",
        "link = soup.find_all(\"div\",{\"class\":\"yuRUbf\"})\n",
        "\n",
        "for i,j in zip(link,heading_object):\n",
        "  print()\n",
        "  print('\\033[1m' + i.getText(\" \\n \") +'\\033[0m')\n",
        "  print()\n",
        "  print(\"-\"*100)"
      ]
    },
    {
      "cell_type": "code",
      "source": [],
      "metadata": {
        "id": "4z6SXpXKBWuo"
      },
      "execution_count": null,
      "outputs": []
    }
  ],
  "metadata": {
    "colab": {
      "provenance": [],
      "toc_visible": true
    },
    "kernelspec": {
      "display_name": "Python 3",
      "name": "python3"
    },
    "language_info": {
      "name": "python"
    }
  },
  "nbformat": 4,
  "nbformat_minor": 0
}